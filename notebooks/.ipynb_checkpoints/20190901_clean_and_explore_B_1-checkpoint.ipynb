{
 "cells": [
  {
   "cell_type": "markdown",
   "metadata": {},
   "source": [
    "# Clean & Explore for Data B\n",
    "\n",
    "Cleaning and Exploring Data B\n",
    "\n",
    "# Goal\n",
    "\n",
    "Goal of the notebook is to cleaning text for B and explore the context.\n",
    "\n",
    "Goal of B : Siswa memberikan jawaban yang menjelaskan alasan untuk melakukan donasi yang merujuk pada kesadaran akan kondisi kerja di industri pakaian atau bagaimana tindakan konsumen mempengaruhi orang lain ATAU siswa menjelaskan alasan untuk melakukan donasi yang berfokus pada emosi atau motivasi dari donor saja.\n",
    "\n",
    "\n",
    "# Plan\n",
    "\n",
    "Checklist what will be done on the notebook :\n",
    "\n",
    "    [*] Get Data B\n",
    "    [*] Skimming\n",
    "    [ ] Data Preparation\n",
    "    [ ] Explore it\n",
    "\n",
    "# Summary\n",
    "\n",
    "Summary result of the notebook\n"
   ]
  },
  {
   "cell_type": "code",
   "execution_count": 1,
   "metadata": {},
   "outputs": [],
   "source": [
    "import pandas as pd\n",
    "import numpy as np\n",
    "import matplotlib.pyplot as plt\n",
    "import seaborn as sns\n",
    "import re\n",
    "from nltk.tokenize import word_tokenize\n",
    "\n",
    "import gensim"
   ]
  },
  {
   "cell_type": "code",
   "execution_count": 2,
   "metadata": {},
   "outputs": [],
   "source": [
    "RAW_PATH=\"../data/raw/\"\n",
    "INTERIM_PATH=\"../data/interim/\"\n",
    "PROCESSED_PATH=\"../data/processed/\"\n",
    "MODEL_PATH=\"../models/\"\n",
    "SRC_PATH='../src/'"
   ]
  },
  {
   "cell_type": "code",
   "execution_count": 4,
   "metadata": {},
   "outputs": [],
   "source": [
    "stoplist=open(SRC_PATH+'stopwords_id.txt').read().split('\\n')+['nya','yg','yng','karna','karana','karan']"
   ]
  },
  {
   "cell_type": "code",
   "execution_count": 5,
   "metadata": {},
   "outputs": [],
   "source": [
    "def clean_word(s):\n",
    "    try:\n",
    "        s0=re.sub(r'[^\\w\\s]',' ',s)\n",
    "        s0=re.sub(\"\\d+\",' ',s0)\n",
    "        s0=word_tokenize(s0.lower())\n",
    "        s1=[w for w in s0 if w not in stoplist and len(w)>2]\n",
    "        s1=' '.join(s1)\n",
    "    except:\n",
    "        s1=''\n",
    "    return s1"
   ]
  },
  {
   "cell_type": "code",
   "execution_count": 6,
   "metadata": {},
   "outputs": [],
   "source": [
    "def clean_word2(s):\n",
    "    try:\n",
    "        s0=re.sub(r'[^\\w\\s]',' ',s)\n",
    "        s0=re.sub(\"\\d+\",' ',s0)\n",
    "        s0=word_tokenize(s0.lower())\n",
    "        s1=[w for w in s0 if len(w)>3]\n",
    "        s1=' '.join(s1)\n",
    "    except:\n",
    "        s1=''\n",
    "    return s1"
   ]
  },
  {
   "cell_type": "code",
   "execution_count": null,
   "metadata": {},
   "outputs": [],
   "source": []
  },
  {
   "cell_type": "markdown",
   "metadata": {},
   "source": [
    "## Get Data"
   ]
  },
  {
   "cell_type": "code",
   "execution_count": 32,
   "metadata": {},
   "outputs": [],
   "source": [
    "data_raw=pd.read_csv(RAW_PATH+'data_train_B.csv')"
   ]
  },
  {
   "cell_type": "code",
   "execution_count": null,
   "metadata": {},
   "outputs": [],
   "source": []
  },
  {
   "cell_type": "markdown",
   "metadata": {},
   "source": [
    "## Skimming"
   ]
  },
  {
   "cell_type": "code",
   "execution_count": 33,
   "metadata": {},
   "outputs": [
    {
     "data": {
      "text/html": [
       "<div>\n",
       "<style scoped>\n",
       "    .dataframe tbody tr th:only-of-type {\n",
       "        vertical-align: middle;\n",
       "    }\n",
       "\n",
       "    .dataframe tbody tr th {\n",
       "        vertical-align: top;\n",
       "    }\n",
       "\n",
       "    .dataframe thead th {\n",
       "        text-align: right;\n",
       "    }\n",
       "</style>\n",
       "<table border=\"1\" class=\"dataframe\">\n",
       "  <thead>\n",
       "    <tr style=\"text-align: right;\">\n",
       "      <th></th>\n",
       "      <th>RES_ID</th>\n",
       "      <th>RESPONSE</th>\n",
       "      <th>LABEL</th>\n",
       "    </tr>\n",
       "  </thead>\n",
       "  <tbody>\n",
       "    <tr>\n",
       "      <th>0</th>\n",
       "      <td>TRB1</td>\n",
       "      <td>Karena orang berpikir bahwa jika disumbangkan ...</td>\n",
       "      <td>1</td>\n",
       "    </tr>\n",
       "    <tr>\n",
       "      <th>1</th>\n",
       "      <td>TRB2</td>\n",
       "      <td>Pakaian awet adalah alternatif terhadap Fast F...</td>\n",
       "      <td>0</td>\n",
       "    </tr>\n",
       "    <tr>\n",
       "      <th>2</th>\n",
       "      <td>TRB3</td>\n",
       "      <td>karna orang lebih suka menyumbang</td>\n",
       "      <td>1</td>\n",
       "    </tr>\n",
       "    <tr>\n",
       "      <th>3</th>\n",
       "      <td>TRB4</td>\n",
       "      <td>karana harga nya terjangkau dan pas.</td>\n",
       "      <td>0</td>\n",
       "    </tr>\n",
       "    <tr>\n",
       "      <th>4</th>\n",
       "      <td>TRB5</td>\n",
       "      <td>kerena harganya mahal .</td>\n",
       "      <td>0</td>\n",
       "    </tr>\n",
       "  </tbody>\n",
       "</table>\n",
       "</div>"
      ],
      "text/plain": [
       "  RES_ID                                           RESPONSE  LABEL\n",
       "0   TRB1  Karena orang berpikir bahwa jika disumbangkan ...      1\n",
       "1   TRB2  Pakaian awet adalah alternatif terhadap Fast F...      0\n",
       "2   TRB3                  karna orang lebih suka menyumbang      1\n",
       "3   TRB4               karana harga nya terjangkau dan pas.      0\n",
       "4   TRB5                            kerena harganya mahal .      0"
      ]
     },
     "execution_count": 33,
     "metadata": {},
     "output_type": "execute_result"
    }
   ],
   "source": [
    "data_raw.head()"
   ]
  },
  {
   "cell_type": "code",
   "execution_count": 34,
   "metadata": {},
   "outputs": [
    {
     "data": {
      "text/plain": [
       "(305, 3)"
      ]
     },
     "execution_count": 34,
     "metadata": {},
     "output_type": "execute_result"
    }
   ],
   "source": [
    "data_raw.shape"
   ]
  },
  {
   "cell_type": "code",
   "execution_count": 35,
   "metadata": {},
   "outputs": [
    {
     "data": {
      "text/plain": [
       "0.5508196721311476"
      ]
     },
     "execution_count": 35,
     "metadata": {},
     "output_type": "execute_result"
    }
   ],
   "source": [
    "data_raw.LABEL.mean()"
   ]
  },
  {
   "cell_type": "code",
   "execution_count": 36,
   "metadata": {},
   "outputs": [
    {
     "data": {
      "text/plain": [
       "0      Karena orang berpikir bahwa jika disumbangkan ...\n",
       "1      Pakaian awet adalah alternatif terhadap Fast F...\n",
       "2                      karna orang lebih suka menyumbang\n",
       "3                   karana harga nya terjangkau dan pas.\n",
       "4                                kerena harganya mahal .\n",
       "5      agar orang yg memerlukan juga bisa mempunyai b...\n",
       "6                    Karena melihat kondisi para pegawai\n",
       "7                                     karena dia kasihan\n",
       "8      karena memiliki pakaian yang melebihi atau sud...\n",
       "9      karna mereka prihatin dengan para pekerja yang...\n",
       "10     KARENA MENYUMBANG ITU HARUS DI LAKUKAN KARENA ...\n",
       "11     mereka memilih untuk menyumbang karena mereka ...\n",
       "12     ? karena kegiatan menyumbang lebih utama dan t...\n",
       "13       karena orang orang masih peduli terhadap sesama\n",
       "14     karena kondisi di sebuah pabrik pakaian yang s...\n",
       "15     karena dari pada dibuang lebih baik disumbangk...\n",
       "16     karena mungkin mereka sadar bahwa banyak orang...\n",
       "17     karena menyumbang itu lebih bermanfaat dari pa...\n",
       "18     karena dari pada pakaian di buang lebih baik d...\n",
       "19     karena menyumbang itu sama denga sodaqoh juga ...\n",
       "20            karna kondisi pekerja sangat memungkinkan,\n",
       "21     karna sebagai upaya untuk membuat produksi pak...\n",
       "22     karna menyumbang suatu hal yang sangat bagus d...\n",
       "23     karena lebih banyak konsumen yang menyumbang a...\n",
       "24     karena mengetahui kondisi kerja di sebuah pabr...\n",
       "25     karena pakaian yang tidak dipakai lagi lebih b...\n",
       "26                          karena dia tidak mau bererja\n",
       "27     karena jika banyak yang tidak terpakai akan mu...\n",
       "28     karena t sebagai upaya untuk membuat produksi ...\n",
       "29               karena yang tak terpakai lebih beretika\n",
       "                             ...                        \n",
       "275    Agar pakaian yang kita pakai semua beretika da...\n",
       "276    karena menyumbang lebih bermanfaat untuk para ...\n",
       "277    agar upaya untuk membuat produksi pakaian menj...\n",
       "278    Karena Untuk Membantu masyarakat yang membutuhkan\n",
       "279    karena mereka lebih memilih pakaian yang beretika\n",
       "280    Karena menyuban lebih baik daripada berlebihan...\n",
       "281    karena kondisi kerja yang dialami para pekerja...\n",
       "282              Mengurangi sampah lingkungan dan polusi\n",
       "283    agar para pekerja tersebut atau pabrik tersebu...\n",
       "284    Alia sedang mengerjakan sebuah laporan tentang...\n",
       "285    karena menyumbang sama saja seprti beramal dan...\n",
       "286                          karna untuk membeli pakaian\n",
       "287    karena pekerjaan nya tidak beretika dan lebih ...\n",
       "288    karena orang menghargai upaya pekerja untuk me...\n",
       "289                   Karena itulah salah satu dari amal\n",
       "290    karna dengan menyumbang nya kita bisa mendapat...\n",
       "291    Rasa empati akan kondisi produksi tempat terse...\n",
       "292    karna menyumbang itu adalah hal positif dan me...\n",
       "293                                          dikarenakan\n",
       "294    karna meraka libih memilih pakaian yg beretika...\n",
       "295    karena mungkin menurut mereka, sesuai dengan h...\n",
       "296    karena di sumbangkan mendapat pahala di bandin...\n",
       "297    karena,dari pada membeli kaus putih seharga 2 ...\n",
       "298    karana menyumbang bisa membuat orang lain sena...\n",
       "299    karena supaya pabrik kaus tersebut menjadi leb...\n",
       "300    Karena,sebuah mesin penjual di Berlin menawark...\n",
       "301    Mereka melihat kondisi pekerja di pabrik pakai...\n",
       "302    karena yang disumbangkan adalah pakaian yang s...\n",
       "303    karena lebih baik tangan diatas daripada tanga...\n",
       "304    karena menyumbangkan 2 Euro tersebut sebagai u...\n",
       "Name: RESPONSE, Length: 305, dtype: object"
      ]
     },
     "execution_count": 36,
     "metadata": {},
     "output_type": "execute_result"
    }
   ],
   "source": [
    "data_raw.RESPONSE"
   ]
  },
  {
   "cell_type": "code",
   "execution_count": null,
   "metadata": {},
   "outputs": [],
   "source": []
  },
  {
   "cell_type": "markdown",
   "metadata": {},
   "source": [
    "## Data Preparation"
   ]
  },
  {
   "cell_type": "code",
   "execution_count": 37,
   "metadata": {},
   "outputs": [],
   "source": [
    "def avg_word_len(s):\n",
    "    len_list=np.array([len(k) for k in s.split(' ')])\n",
    "    return len_list.mean()"
   ]
  },
  {
   "cell_type": "code",
   "execution_count": 38,
   "metadata": {},
   "outputs": [],
   "source": [
    "## Remove all punctuation\n",
    "## Number of the words\n",
    "data_raw['RESPONSE_CLN']=data_raw.RESPONSE.apply(clean_word)\n",
    "data_raw['RESPONSE_CLN2']=data_raw.RESPONSE.apply(clean_word2)\n",
    "\n",
    "data_raw['count_word']=data_raw.RESPONSE.apply(lambda x : len(x.split(' ')))\n",
    "data_raw['count_word_cln']=data_raw.RESPONSE_CLN.apply(lambda x : len(x.split(' ')))\n",
    "data_raw['count_word_cln2']=data_raw.RESPONSE_CLN2.apply(lambda x : len(x.split(' ')))\n",
    "\n",
    "## Average word length\n",
    "data_raw['avg_word_length']=data_raw.RESPONSE.apply(avg_word_len)\n",
    "data_raw['avg_word_length_cln']=data_raw.RESPONSE_CLN.apply(avg_word_len)"
   ]
  },
  {
   "cell_type": "code",
   "execution_count": 39,
   "metadata": {},
   "outputs": [
    {
     "data": {
      "text/html": [
       "<div>\n",
       "<style scoped>\n",
       "    .dataframe tbody tr th:only-of-type {\n",
       "        vertical-align: middle;\n",
       "    }\n",
       "\n",
       "    .dataframe tbody tr th {\n",
       "        vertical-align: top;\n",
       "    }\n",
       "\n",
       "    .dataframe thead th {\n",
       "        text-align: right;\n",
       "    }\n",
       "</style>\n",
       "<table border=\"1\" class=\"dataframe\">\n",
       "  <thead>\n",
       "    <tr style=\"text-align: right;\">\n",
       "      <th></th>\n",
       "      <th>RES_ID</th>\n",
       "      <th>RESPONSE</th>\n",
       "      <th>LABEL</th>\n",
       "      <th>RESPONSE_CLN</th>\n",
       "      <th>RESPONSE_CLN2</th>\n",
       "      <th>count_word</th>\n",
       "      <th>count_word_cln</th>\n",
       "      <th>count_word_cln2</th>\n",
       "      <th>avg_word_length</th>\n",
       "      <th>avg_word_length_cln</th>\n",
       "    </tr>\n",
       "  </thead>\n",
       "  <tbody>\n",
       "    <tr>\n",
       "      <th>286</th>\n",
       "      <td>TRB287</td>\n",
       "      <td>karna untuk membeli pakaian</td>\n",
       "      <td>0</td>\n",
       "      <td>membeli pakaian</td>\n",
       "      <td>karna untuk membeli pakaian</td>\n",
       "      <td>4</td>\n",
       "      <td>2</td>\n",
       "      <td>4</td>\n",
       "      <td>6.000000</td>\n",
       "      <td>7.000000</td>\n",
       "    </tr>\n",
       "    <tr>\n",
       "      <th>37</th>\n",
       "      <td>TRB38</td>\n",
       "      <td>karena bnyak yang membutuh kan</td>\n",
       "      <td>0</td>\n",
       "      <td>bnyak membutuh</td>\n",
       "      <td>karena bnyak yang membutuh</td>\n",
       "      <td>5</td>\n",
       "      <td>2</td>\n",
       "      <td>4</td>\n",
       "      <td>5.200000</td>\n",
       "      <td>6.500000</td>\n",
       "    </tr>\n",
       "    <tr>\n",
       "      <th>53</th>\n",
       "      <td>TRB54</td>\n",
       "      <td>agar pakaian bisa dibuat sesuai etika</td>\n",
       "      <td>0</td>\n",
       "      <td>pakaian sesuai etika</td>\n",
       "      <td>agar pakaian bisa dibuat sesuai etika</td>\n",
       "      <td>6</td>\n",
       "      <td>3</td>\n",
       "      <td>6</td>\n",
       "      <td>5.333333</td>\n",
       "      <td>6.000000</td>\n",
       "    </tr>\n",
       "    <tr>\n",
       "      <th>215</th>\n",
       "      <td>TRB216</td>\n",
       "      <td>karna berbagi itu indah</td>\n",
       "      <td>0</td>\n",
       "      <td>berbagi indah</td>\n",
       "      <td>karna berbagi indah</td>\n",
       "      <td>4</td>\n",
       "      <td>2</td>\n",
       "      <td>3</td>\n",
       "      <td>5.000000</td>\n",
       "      <td>6.000000</td>\n",
       "    </tr>\n",
       "    <tr>\n",
       "      <th>254</th>\n",
       "      <td>TRB255</td>\n",
       "      <td>Sebagai bagian dari eksperiman, sebuah mesin p...</td>\n",
       "      <td>0</td>\n",
       "      <td>eksperiman mesin penjual berlin menawarkan kau...</td>\n",
       "      <td>sebagai bagian dari eksperiman sebuah mesin pe...</td>\n",
       "      <td>89</td>\n",
       "      <td>47</td>\n",
       "      <td>83</td>\n",
       "      <td>6.617978</td>\n",
       "      <td>7.595745</td>\n",
       "    </tr>\n",
       "    <tr>\n",
       "      <th>26</th>\n",
       "      <td>TRB27</td>\n",
       "      <td>karena dia tidak mau bererja</td>\n",
       "      <td>0</td>\n",
       "      <td>bererja</td>\n",
       "      <td>karena tidak bererja</td>\n",
       "      <td>5</td>\n",
       "      <td>1</td>\n",
       "      <td>3</td>\n",
       "      <td>4.800000</td>\n",
       "      <td>7.000000</td>\n",
       "    </tr>\n",
       "    <tr>\n",
       "      <th>16</th>\n",
       "      <td>TRB17</td>\n",
       "      <td>karena mungkin mereka sadar bahwa banyak orang...</td>\n",
       "      <td>1</td>\n",
       "      <td>sadar orang penghasilan kerja banting tulang m...</td>\n",
       "      <td>karena mungkin mereka sadar bahwa banyak orang...</td>\n",
       "      <td>19</td>\n",
       "      <td>8</td>\n",
       "      <td>18</td>\n",
       "      <td>5.947368</td>\n",
       "      <td>6.250000</td>\n",
       "    </tr>\n",
       "    <tr>\n",
       "      <th>148</th>\n",
       "      <td>TRB149</td>\n",
       "      <td>karena mereka atau konsumen yang membeli melih...</td>\n",
       "      <td>1</td>\n",
       "      <td>konsumen membeli langsung kondisi kerja disebu...</td>\n",
       "      <td>karena mereka atau konsumen yang membeli melih...</td>\n",
       "      <td>27</td>\n",
       "      <td>14</td>\n",
       "      <td>26</td>\n",
       "      <td>6.814815</td>\n",
       "      <td>7.428571</td>\n",
       "    </tr>\n",
       "    <tr>\n",
       "      <th>228</th>\n",
       "      <td>TRB229</td>\n",
       "      <td>agar pekerja mendapatkan upah yg layak</td>\n",
       "      <td>1</td>\n",
       "      <td>pekerja upah layak</td>\n",
       "      <td>agar pekerja mendapatkan upah layak</td>\n",
       "      <td>6</td>\n",
       "      <td>3</td>\n",
       "      <td>5</td>\n",
       "      <td>5.500000</td>\n",
       "      <td>5.333333</td>\n",
       "    </tr>\n",
       "    <tr>\n",
       "      <th>40</th>\n",
       "      <td>TRB41</td>\n",
       "      <td>sebagai upaya untuk membuat produksi pakaian m...</td>\n",
       "      <td>1</td>\n",
       "      <td>upaya produksi pakaian beretika</td>\n",
       "      <td>sebagai upaya untuk membuat produksi pakaian m...</td>\n",
       "      <td>9</td>\n",
       "      <td>4</td>\n",
       "      <td>9</td>\n",
       "      <td>6.555556</td>\n",
       "      <td>7.000000</td>\n",
       "    </tr>\n",
       "    <tr>\n",
       "      <th>141</th>\n",
       "      <td>TRB142</td>\n",
       "      <td>karena menyumabng adalah perbuatan yang terpuj...</td>\n",
       "      <td>1</td>\n",
       "      <td>menyumabng perbuatan terpuji membantu pakaian ...</td>\n",
       "      <td>karena menyumabng adalah perbuatan yang terpuj...</td>\n",
       "      <td>25</td>\n",
       "      <td>11</td>\n",
       "      <td>24</td>\n",
       "      <td>6.320000</td>\n",
       "      <td>8.090909</td>\n",
       "    </tr>\n",
       "    <tr>\n",
       "      <th>139</th>\n",
       "      <td>TRB140</td>\n",
       "      <td>karena pakaian-pakaian ini biasanya murah dan ...</td>\n",
       "      <td>1</td>\n",
       "      <td>pakaian pakaian murah bertahan konsumen cepat ...</td>\n",
       "      <td>karena pakaian pakaian biasanya murah tidak be...</td>\n",
       "      <td>17</td>\n",
       "      <td>9</td>\n",
       "      <td>16</td>\n",
       "      <td>6.705882</td>\n",
       "      <td>7.000000</td>\n",
       "    </tr>\n",
       "    <tr>\n",
       "      <th>177</th>\n",
       "      <td>TRB178</td>\n",
       "      <td>karena dengan menyumbang para konsumen dapat m...</td>\n",
       "      <td>1</td>\n",
       "      <td>menyumbang konsumen membantu pekerja</td>\n",
       "      <td>karena dengan menyumbang para konsumen dapat m...</td>\n",
       "      <td>9</td>\n",
       "      <td>4</td>\n",
       "      <td>9</td>\n",
       "      <td>6.444444</td>\n",
       "      <td>8.250000</td>\n",
       "    </tr>\n",
       "    <tr>\n",
       "      <th>221</th>\n",
       "      <td>TRB222</td>\n",
       "      <td>karena kalau pakaian yang sudah tidak dipakai ...</td>\n",
       "      <td>0</td>\n",
       "      <td>pakaian dipakai disumbangkan mengurangi penump...</td>\n",
       "      <td>karena kalau pakaian yang sudah tidak dipakai ...</td>\n",
       "      <td>14</td>\n",
       "      <td>7</td>\n",
       "      <td>14</td>\n",
       "      <td>6.642857</td>\n",
       "      <td>8.428571</td>\n",
       "    </tr>\n",
       "    <tr>\n",
       "      <th>82</th>\n",
       "      <td>TRB83</td>\n",
       "      <td>karena menyumbang itu bagus dan mendapatkan pa...</td>\n",
       "      <td>0</td>\n",
       "      <td>menyumbang bagus pahala</td>\n",
       "      <td>karena menyumbang bagus mendapatkan pahala</td>\n",
       "      <td>7</td>\n",
       "      <td>3</td>\n",
       "      <td>5</td>\n",
       "      <td>6.285714</td>\n",
       "      <td>7.000000</td>\n",
       "    </tr>\n",
       "  </tbody>\n",
       "</table>\n",
       "</div>"
      ],
      "text/plain": [
       "     RES_ID                                           RESPONSE  LABEL  \\\n",
       "286  TRB287                        karna untuk membeli pakaian      0   \n",
       "37    TRB38                     karena bnyak yang membutuh kan      0   \n",
       "53    TRB54              agar pakaian bisa dibuat sesuai etika      0   \n",
       "215  TRB216                            karna berbagi itu indah      0   \n",
       "254  TRB255  Sebagai bagian dari eksperiman, sebuah mesin p...      0   \n",
       "26    TRB27                       karena dia tidak mau bererja      0   \n",
       "16    TRB17  karena mungkin mereka sadar bahwa banyak orang...      1   \n",
       "148  TRB149  karena mereka atau konsumen yang membeli melih...      1   \n",
       "228  TRB229             agar pekerja mendapatkan upah yg layak      1   \n",
       "40    TRB41  sebagai upaya untuk membuat produksi pakaian m...      1   \n",
       "141  TRB142  karena menyumabng adalah perbuatan yang terpuj...      1   \n",
       "139  TRB140  karena pakaian-pakaian ini biasanya murah dan ...      1   \n",
       "177  TRB178  karena dengan menyumbang para konsumen dapat m...      1   \n",
       "221  TRB222  karena kalau pakaian yang sudah tidak dipakai ...      0   \n",
       "82    TRB83  karena menyumbang itu bagus dan mendapatkan pa...      0   \n",
       "\n",
       "                                          RESPONSE_CLN  \\\n",
       "286                                    membeli pakaian   \n",
       "37                                      bnyak membutuh   \n",
       "53                                pakaian sesuai etika   \n",
       "215                                      berbagi indah   \n",
       "254  eksperiman mesin penjual berlin menawarkan kau...   \n",
       "26                                             bererja   \n",
       "16   sadar orang penghasilan kerja banting tulang m...   \n",
       "148  konsumen membeli langsung kondisi kerja disebu...   \n",
       "228                                 pekerja upah layak   \n",
       "40                     upaya produksi pakaian beretika   \n",
       "141  menyumabng perbuatan terpuji membantu pakaian ...   \n",
       "139  pakaian pakaian murah bertahan konsumen cepat ...   \n",
       "177               menyumbang konsumen membantu pekerja   \n",
       "221  pakaian dipakai disumbangkan mengurangi penump...   \n",
       "82                             menyumbang bagus pahala   \n",
       "\n",
       "                                         RESPONSE_CLN2  count_word  \\\n",
       "286                        karna untuk membeli pakaian           4   \n",
       "37                          karena bnyak yang membutuh           5   \n",
       "53               agar pakaian bisa dibuat sesuai etika           6   \n",
       "215                                karna berbagi indah           4   \n",
       "254  sebagai bagian dari eksperiman sebuah mesin pe...          89   \n",
       "26                                karena tidak bererja           5   \n",
       "16   karena mungkin mereka sadar bahwa banyak orang...          19   \n",
       "148  karena mereka atau konsumen yang membeli melih...          27   \n",
       "228                agar pekerja mendapatkan upah layak           6   \n",
       "40   sebagai upaya untuk membuat produksi pakaian m...           9   \n",
       "141  karena menyumabng adalah perbuatan yang terpuj...          25   \n",
       "139  karena pakaian pakaian biasanya murah tidak be...          17   \n",
       "177  karena dengan menyumbang para konsumen dapat m...           9   \n",
       "221  karena kalau pakaian yang sudah tidak dipakai ...          14   \n",
       "82          karena menyumbang bagus mendapatkan pahala           7   \n",
       "\n",
       "     count_word_cln  count_word_cln2  avg_word_length  avg_word_length_cln  \n",
       "286               2                4         6.000000             7.000000  \n",
       "37                2                4         5.200000             6.500000  \n",
       "53                3                6         5.333333             6.000000  \n",
       "215               2                3         5.000000             6.000000  \n",
       "254              47               83         6.617978             7.595745  \n",
       "26                1                3         4.800000             7.000000  \n",
       "16                8               18         5.947368             6.250000  \n",
       "148              14               26         6.814815             7.428571  \n",
       "228               3                5         5.500000             5.333333  \n",
       "40                4                9         6.555556             7.000000  \n",
       "141              11               24         6.320000             8.090909  \n",
       "139               9               16         6.705882             7.000000  \n",
       "177               4                9         6.444444             8.250000  \n",
       "221               7               14         6.642857             8.428571  \n",
       "82                3                5         6.285714             7.000000  "
      ]
     },
     "execution_count": 39,
     "metadata": {},
     "output_type": "execute_result"
    }
   ],
   "source": [
    "data_raw.sample(15)"
   ]
  },
  {
   "cell_type": "code",
   "execution_count": 40,
   "metadata": {},
   "outputs": [
    {
     "data": {
      "text/plain": [
       "array([['orang orang bersimpati kondisi kerja pabrik pakaian', 1],\n",
       "       ['akaian pakaian murah bertahan konsumen cepat menggantinya mode terbaru fas',\n",
       "        0],\n",
       "       ['konsumen memilih prodeuksi pakaian beretika melanjutkan pembelian',\n",
       "        1],\n",
       "       ['orang orang berprihatin pabrik pabrik kekurangan dana', 0],\n",
       "       ['masyarakat pakaian beretika upah kerja layak', 1],\n",
       "       ['konsumen kondisi kerja pabrik pakaian beretika menyumbangkan euro produksi pakaian beretika',\n",
       "        1],\n",
       "       ['mudah', 0],\n",
       "       ['gambarnya cocok warna kaus baju', 0],\n",
       "       ['konsumen berupaya produksi menjad beretika', 0],\n",
       "       ['munkin kebanyakan orang mwngahargai lakukan perusahan', 0]],\n",
       "      dtype=object)"
      ]
     },
     "execution_count": 40,
     "metadata": {},
     "output_type": "execute_result"
    }
   ],
   "source": [
    "data_raw[['RESPONSE_CLN','LABEL']].sample(10).values"
   ]
  },
  {
   "cell_type": "code",
   "execution_count": 41,
   "metadata": {},
   "outputs": [
    {
     "data": {
      "text/plain": [
       "['pakaian',\n",
       " 'beretika',\n",
       " 'menyumbang',\n",
       " 'kondisi',\n",
       " 'pabrik',\n",
       " 'produksi',\n",
       " 'kerja',\n",
       " 'orang',\n",
       " 'konsumen',\n",
       " 'pekerja']"
      ]
     },
     "execution_count": 41,
     "metadata": {},
     "output_type": "execute_result"
    }
   ],
   "source": [
    "words=[doc.split(' ') for doc in data_raw[data_raw.LABEL==1].RESPONSE_CLN]\n",
    "ww=[]\n",
    "for w in words:\n",
    "    ww+=w\n",
    "ss1=pd.Series(ww).value_counts()[:10].index.tolist()\n",
    "ss1"
   ]
  },
  {
   "cell_type": "code",
   "execution_count": 42,
   "metadata": {},
   "outputs": [],
   "source": [
    "words=[doc.split(' ') for doc in data_raw2[data_raw2.LABEL==0].RESPONSE_CLN]\n",
    "ww=[]\n",
    "for w in words:\n",
    "    ww+=w\n",
    "ss0=pd.Series(ww).value_counts()[:15].index.tolist()"
   ]
  },
  {
   "cell_type": "code",
   "execution_count": 43,
   "metadata": {},
   "outputs": [],
   "source": [
    "# set(ss1)-set(ss0)"
   ]
  },
  {
   "cell_type": "code",
   "execution_count": 44,
   "metadata": {},
   "outputs": [],
   "source": [
    "# stimulus_word=['berpindah','tantangan','komunikasi','ekonomi','sosial','adaptasi','pindah','suasana','baru','sulit']\n",
    "stimulus_word=list(set(['pakaian','menyumbang','produksi','sumbang','membutuhkan','upaya','layak','membantu','memilih','pahala']+ss1))"
   ]
  },
  {
   "cell_type": "code",
   "execution_count": 45,
   "metadata": {},
   "outputs": [],
   "source": [
    "data_raw2=data_raw.copy()\n",
    "for w in stimulus_word:\n",
    "    data_raw2['is_'+w]=data_raw2.RESPONSE_CLN.apply(lambda x: int(w in x))\n",
    "\n",
    "# karena, karna, karana, karana, karan\n",
    "data_raw2['is_karena']=data_raw2.RESPONSE_CLN2.apply(lambda x:  len([w for w in str(x).lower().split() if w in ['karena','karana','karna','karan']]))\n",
    "data_raw2['count_stopwords']=data_raw2.RESPONSE.apply(lambda x:  len([w for w in str(x).lower().split() if w in stoplist]))\n",
    "data_raw2['count_topwords']=data_raw2.RESPONSE.apply(lambda x:  len([w for w in str(x).lower().split() if w in stimulus_word]))"
   ]
  },
  {
   "cell_type": "code",
   "execution_count": null,
   "metadata": {},
   "outputs": [],
   "source": []
  },
  {
   "cell_type": "code",
   "execution_count": 46,
   "metadata": {},
   "outputs": [
    {
     "data": {
      "text/plain": [
       "is_sumbang        0.279706\n",
       "is_kerja          0.412462\n",
       "is_upaya          0.284523\n",
       "is_memilih        0.242088\n",
       "is_pabrik         0.393075\n",
       "is_membantu       0.242088\n",
       "is_orang          0.367817\n",
       "is_pekerja        0.269694\n",
       "is_produksi       0.403100\n",
       "is_menyumbang     0.453821\n",
       "is_beretika       0.435137\n",
       "is_layak          0.264485\n",
       "is_pakaian        0.498553\n",
       "is_konsumen       0.327025\n",
       "is_pahala         0.229792\n",
       "is_kondisi        0.393075\n",
       "is_membutuhkan    0.236043\n",
       "is_karena         0.474478\n",
       "dtype: float64"
      ]
     },
     "execution_count": 46,
     "metadata": {},
     "output_type": "execute_result"
    }
   ],
   "source": [
    "## Check Variance every 'is'-columns\n",
    "data_raw2[[i for i in data_raw2.columns if 'is' in i]].std()"
   ]
  },
  {
   "cell_type": "code",
   "execution_count": null,
   "metadata": {},
   "outputs": [],
   "source": []
  },
  {
   "cell_type": "markdown",
   "metadata": {},
   "source": [
    "## Exploratory Data Analytics"
   ]
  },
  {
   "cell_type": "code",
   "execution_count": 47,
   "metadata": {},
   "outputs": [
    {
     "data": {
      "text/html": [
       "<div>\n",
       "<style scoped>\n",
       "    .dataframe tbody tr th:only-of-type {\n",
       "        vertical-align: middle;\n",
       "    }\n",
       "\n",
       "    .dataframe tbody tr th {\n",
       "        vertical-align: top;\n",
       "    }\n",
       "\n",
       "    .dataframe thead th {\n",
       "        text-align: right;\n",
       "    }\n",
       "</style>\n",
       "<table border=\"1\" class=\"dataframe\">\n",
       "  <thead>\n",
       "    <tr style=\"text-align: right;\">\n",
       "      <th></th>\n",
       "      <th>RES_ID</th>\n",
       "      <th>RESPONSE</th>\n",
       "      <th>LABEL</th>\n",
       "      <th>RESPONSE_CLN</th>\n",
       "      <th>RESPONSE_CLN2</th>\n",
       "      <th>count_word</th>\n",
       "      <th>count_word_cln</th>\n",
       "      <th>count_word_cln2</th>\n",
       "      <th>avg_word_length</th>\n",
       "      <th>avg_word_length_cln</th>\n",
       "      <th>...</th>\n",
       "      <th>is_beretika</th>\n",
       "      <th>is_layak</th>\n",
       "      <th>is_pakaian</th>\n",
       "      <th>is_konsumen</th>\n",
       "      <th>is_pahala</th>\n",
       "      <th>is_kondisi</th>\n",
       "      <th>is_membutuhkan</th>\n",
       "      <th>is_karena</th>\n",
       "      <th>count_stopwords</th>\n",
       "      <th>count_topwords</th>\n",
       "    </tr>\n",
       "  </thead>\n",
       "  <tbody>\n",
       "    <tr>\n",
       "      <th>233</th>\n",
       "      <td>TRB234</td>\n",
       "      <td>karena lebih baik untuk semuanya</td>\n",
       "      <td>0</td>\n",
       "      <td></td>\n",
       "      <td>karena lebih baik untuk semuanya</td>\n",
       "      <td>5</td>\n",
       "      <td>1</td>\n",
       "      <td>5</td>\n",
       "      <td>5.600000</td>\n",
       "      <td>0.000000</td>\n",
       "      <td>...</td>\n",
       "      <td>0</td>\n",
       "      <td>0</td>\n",
       "      <td>0</td>\n",
       "      <td>0</td>\n",
       "      <td>0</td>\n",
       "      <td>0</td>\n",
       "      <td>0</td>\n",
       "      <td>1</td>\n",
       "      <td>5</td>\n",
       "      <td>0</td>\n",
       "    </tr>\n",
       "    <tr>\n",
       "      <th>200</th>\n",
       "      <td>TRB201</td>\n",
       "      <td>meemas tikan bahwA pejerja mendapatkan upah layak</td>\n",
       "      <td>0</td>\n",
       "      <td>meemas tikan pejerja upah layak</td>\n",
       "      <td>meemas tikan bahwa pejerja mendapatkan upah layak</td>\n",
       "      <td>7</td>\n",
       "      <td>5</td>\n",
       "      <td>7</td>\n",
       "      <td>6.142857</td>\n",
       "      <td>5.400000</td>\n",
       "      <td>...</td>\n",
       "      <td>0</td>\n",
       "      <td>1</td>\n",
       "      <td>0</td>\n",
       "      <td>0</td>\n",
       "      <td>0</td>\n",
       "      <td>0</td>\n",
       "      <td>0</td>\n",
       "      <td>0</td>\n",
       "      <td>2</td>\n",
       "      <td>1</td>\n",
       "    </tr>\n",
       "    <tr>\n",
       "      <th>227</th>\n",
       "      <td>TRB228</td>\n",
       "      <td>karena sayang untuk di buang</td>\n",
       "      <td>0</td>\n",
       "      <td>sayang buang</td>\n",
       "      <td>karena sayang untuk buang</td>\n",
       "      <td>5</td>\n",
       "      <td>2</td>\n",
       "      <td>4</td>\n",
       "      <td>4.800000</td>\n",
       "      <td>5.500000</td>\n",
       "      <td>...</td>\n",
       "      <td>0</td>\n",
       "      <td>0</td>\n",
       "      <td>0</td>\n",
       "      <td>0</td>\n",
       "      <td>0</td>\n",
       "      <td>0</td>\n",
       "      <td>0</td>\n",
       "      <td>1</td>\n",
       "      <td>3</td>\n",
       "      <td>0</td>\n",
       "    </tr>\n",
       "    <tr>\n",
       "      <th>46</th>\n",
       "      <td>TRB47</td>\n",
       "      <td>karena harga pakaian termasuk kategori murah d...</td>\n",
       "      <td>0</td>\n",
       "      <td>harga pakaian kategori murah kondisi kerja pab...</td>\n",
       "      <td>karena harga pakaian termasuk kategori murah m...</td>\n",
       "      <td>15</td>\n",
       "      <td>8</td>\n",
       "      <td>13</td>\n",
       "      <td>6.200000</td>\n",
       "      <td>6.500000</td>\n",
       "      <td>...</td>\n",
       "      <td>0</td>\n",
       "      <td>0</td>\n",
       "      <td>1</td>\n",
       "      <td>0</td>\n",
       "      <td>0</td>\n",
       "      <td>1</td>\n",
       "      <td>0</td>\n",
       "      <td>1</td>\n",
       "      <td>7</td>\n",
       "      <td>4</td>\n",
       "    </tr>\n",
       "    <tr>\n",
       "      <th>250</th>\n",
       "      <td>TRB251</td>\n",
       "      <td>karena menurut konsumen menyumbang adalah sala...</td>\n",
       "      <td>1</td>\n",
       "      <td>konsumen menyumbang salah memboros membuangnya...</td>\n",
       "      <td>karena menurut konsumen menyumbang adalah sala...</td>\n",
       "      <td>31</td>\n",
       "      <td>11</td>\n",
       "      <td>32</td>\n",
       "      <td>6.387097</td>\n",
       "      <td>8.363636</td>\n",
       "      <td>...</td>\n",
       "      <td>0</td>\n",
       "      <td>0</td>\n",
       "      <td>0</td>\n",
       "      <td>1</td>\n",
       "      <td>0</td>\n",
       "      <td>0</td>\n",
       "      <td>0</td>\n",
       "      <td>1</td>\n",
       "      <td>20</td>\n",
       "      <td>3</td>\n",
       "    </tr>\n",
       "  </tbody>\n",
       "</table>\n",
       "<p>5 rows × 30 columns</p>\n",
       "</div>"
      ],
      "text/plain": [
       "     RES_ID                                           RESPONSE  LABEL  \\\n",
       "233  TRB234                   karena lebih baik untuk semuanya      0   \n",
       "200  TRB201  meemas tikan bahwA pejerja mendapatkan upah layak      0   \n",
       "227  TRB228                       karena sayang untuk di buang      0   \n",
       "46    TRB47  karena harga pakaian termasuk kategori murah d...      0   \n",
       "250  TRB251  karena menurut konsumen menyumbang adalah sala...      1   \n",
       "\n",
       "                                          RESPONSE_CLN  \\\n",
       "233                                                      \n",
       "200                    meemas tikan pejerja upah layak   \n",
       "227                                       sayang buang   \n",
       "46   harga pakaian kategori murah kondisi kerja pab...   \n",
       "250  konsumen menyumbang salah memboros membuangnya...   \n",
       "\n",
       "                                         RESPONSE_CLN2  count_word  \\\n",
       "233                   karena lebih baik untuk semuanya           5   \n",
       "200  meemas tikan bahwa pejerja mendapatkan upah layak           7   \n",
       "227                          karena sayang untuk buang           5   \n",
       "46   karena harga pakaian termasuk kategori murah m...          15   \n",
       "250  karena menurut konsumen menyumbang adalah sala...          31   \n",
       "\n",
       "     count_word_cln  count_word_cln2  avg_word_length  avg_word_length_cln  \\\n",
       "233               1                5         5.600000             0.000000   \n",
       "200               5                7         6.142857             5.400000   \n",
       "227               2                4         4.800000             5.500000   \n",
       "46                8               13         6.200000             6.500000   \n",
       "250              11               32         6.387097             8.363636   \n",
       "\n",
       "     ...  is_beretika  is_layak  is_pakaian  is_konsumen  is_pahala  \\\n",
       "233  ...            0         0           0            0          0   \n",
       "200  ...            0         1           0            0          0   \n",
       "227  ...            0         0           0            0          0   \n",
       "46   ...            0         0           1            0          0   \n",
       "250  ...            0         0           0            1          0   \n",
       "\n",
       "     is_kondisi  is_membutuhkan  is_karena  count_stopwords  count_topwords  \n",
       "233           0               0          1                5               0  \n",
       "200           0               0          0                2               1  \n",
       "227           0               0          1                3               0  \n",
       "46            1               0          1                7               4  \n",
       "250           0               0          1               20               3  \n",
       "\n",
       "[5 rows x 30 columns]"
      ]
     },
     "execution_count": 47,
     "metadata": {},
     "output_type": "execute_result"
    }
   ],
   "source": [
    "data_raw2.sample(5)"
   ]
  },
  {
   "cell_type": "code",
   "execution_count": 48,
   "metadata": {},
   "outputs": [
    {
     "data": {
      "text/plain": [
       "<matplotlib.axes._subplots.AxesSubplot at 0x1a2c0ce550>"
      ]
     },
     "execution_count": 48,
     "metadata": {},
     "output_type": "execute_result"
    },
    {
     "data": {
      "image/png": "[encoded data removed]",
      "text/plain": [
       "<Figure size 432x288 with 1 Axes>"
      ]
     },
     "metadata": {
      "needs_background": "light"
     },
     "output_type": "display_data"
    }
   ],
   "source": [
    "## Explore\n",
    "sns.scatterplot(x='count_word',y='avg_word_length',hue='LABEL',data=data_raw2[(data_raw2.count_word<75)&(data_raw2.count_word<15)])"
   ]
  },
  {
   "cell_type": "code",
   "execution_count": 49,
   "metadata": {},
   "outputs": [],
   "source": [
    "# data_raw2[(data_raw2.count_word_cln>20)].RESPONSE.tolist()"
   ]
  },
  {
   "cell_type": "code",
   "execution_count": 50,
   "metadata": {},
   "outputs": [
    {
     "data": {
      "text/plain": [
       "<matplotlib.axes._subplots.AxesSubplot at 0x1a2e733198>"
      ]
     },
     "execution_count": 50,
     "metadata": {},
     "output_type": "execute_result"
    },
    {
     "data": {
      "image/png": "[encoded data removed]",
      "text/plain": [
       "<Figure size 432x288 with 1 Axes>"
      ]
     },
     "metadata": {
      "needs_background": "light"
     },
     "output_type": "display_data"
    }
   ],
   "source": [
    "## Explore\n",
    "sns.scatterplot(x='count_word_cln',y='avg_word_length_cln',hue='LABEL',data=data_raw2[(data_raw2.count_word_cln<13)&(data_raw2.count_word_cln<35)])"
   ]
  },
  {
   "cell_type": "code",
   "execution_count": 52,
   "metadata": {},
   "outputs": [
    {
     "data": {
      "text/plain": [
       "count    305.000000\n",
       "mean      12.698361\n",
       "std       12.945260\n",
       "min        1.000000\n",
       "25%        7.000000\n",
       "50%       10.000000\n",
       "75%       14.000000\n",
       "max      159.000000\n",
       "Name: count_word_cln2, dtype: float64"
      ]
     },
     "execution_count": 52,
     "metadata": {},
     "output_type": "execute_result"
    }
   ],
   "source": [
    "data_raw2.count_word_cln2.describe()"
   ]
  },
  {
   "cell_type": "code",
   "execution_count": 53,
   "metadata": {},
   "outputs": [
    {
     "data": {
      "text/plain": [
       "is_sumbang       -0.078398\n",
       "is_kerja          0.234439\n",
       "is_upaya          0.118992\n",
       "is_memilih        0.069120\n",
       "is_pabrik         0.202441\n",
       "is_membantu       0.123665\n",
       "is_orang          0.018127\n",
       "is_pekerja        0.214950\n",
       "is_produksi       0.194077\n",
       "is_menyumbang     0.153163\n",
       "is_beretika       0.221327\n",
       "is_layak          0.083155\n",
       "is_pakaian        0.238201\n",
       "is_konsumen       0.032700\n",
       "is_pahala         0.018275\n",
       "is_kondisi        0.168848\n",
       "is_membutuhkan   -0.053558\n",
       "is_karena         0.038186\n",
       "LABEL             1.000000\n",
       "Name: LABEL, dtype: float64"
      ]
     },
     "execution_count": 53,
     "metadata": {},
     "output_type": "execute_result"
    }
   ],
   "source": [
    "data_raw2[[i for i in data_raw2.columns if 'is' in i]+['LABEL']].corr()['LABEL']"
   ]
  },
  {
   "cell_type": "code",
   "execution_count": null,
   "metadata": {},
   "outputs": [],
   "source": []
  },
  {
   "cell_type": "code",
   "execution_count": 54,
   "metadata": {},
   "outputs": [],
   "source": [
    "def padding_words(word_list,n):\n",
    "    word_out=['0']*n\n",
    "    word_list0=word_list.copy()\n",
    "    if len(word_list)>n:\n",
    "        word_list0=word_list[:n]\n",
    "    word_out[:len(word_list0)] = word_list0\n",
    "    return word_out"
   ]
  },
  {
   "cell_type": "code",
   "execution_count": 55,
   "metadata": {},
   "outputs": [],
   "source": [
    "MAX_PADDING=15\n",
    "data_raw2['RESPOND_USED']=data_raw2.RESPONSE_CLN2.apply(lambda x : ' '.join(padding_words(x.split(' '),MAX_PADDING)))"
   ]
  },
  {
   "cell_type": "code",
   "execution_count": null,
   "metadata": {},
   "outputs": [],
   "source": []
  },
  {
   "cell_type": "markdown",
   "metadata": {},
   "source": [
    "## Embedding Training"
   ]
  },
  {
   "cell_type": "code",
   "execution_count": 58,
   "metadata": {},
   "outputs": [],
   "source": [
    "corpus=data_raw2.RESPONSE_CLN2.tolist()\n",
    "words=[doc.split(' ') for doc in corpus]"
   ]
  },
  {
   "cell_type": "code",
   "execution_count": 59,
   "metadata": {},
   "outputs": [],
   "source": [
    "EMBED_SIZE=75\n",
    "model_vec = gensim.models.Word2Vec(\n",
    "        words,\n",
    "        size=EMBED_SIZE,\n",
    "        window=4,\n",
    "        min_count=5)"
   ]
  },
  {
   "cell_type": "code",
   "execution_count": 60,
   "metadata": {},
   "outputs": [],
   "source": [
    "# model_vec.wv.most_similar('nyaman')"
   ]
  },
  {
   "cell_type": "code",
   "execution_count": null,
   "metadata": {},
   "outputs": [],
   "source": []
  },
  {
   "cell_type": "markdown",
   "metadata": {},
   "source": [
    "## Save Embbed and Data"
   ]
  },
  {
   "cell_type": "code",
   "execution_count": 61,
   "metadata": {},
   "outputs": [
    {
     "data": {
      "text/html": [
       "<div>\n",
       "<style scoped>\n",
       "    .dataframe tbody tr th:only-of-type {\n",
       "        vertical-align: middle;\n",
       "    }\n",
       "\n",
       "    .dataframe tbody tr th {\n",
       "        vertical-align: top;\n",
       "    }\n",
       "\n",
       "    .dataframe thead th {\n",
       "        text-align: right;\n",
       "    }\n",
       "</style>\n",
       "<table border=\"1\" class=\"dataframe\">\n",
       "  <thead>\n",
       "    <tr style=\"text-align: right;\">\n",
       "      <th></th>\n",
       "      <th>RES_ID</th>\n",
       "      <th>RESPONSE</th>\n",
       "      <th>LABEL</th>\n",
       "      <th>RESPONSE_CLN</th>\n",
       "      <th>RESPONSE_CLN2</th>\n",
       "      <th>count_word</th>\n",
       "      <th>count_word_cln</th>\n",
       "      <th>count_word_cln2</th>\n",
       "      <th>avg_word_length</th>\n",
       "      <th>avg_word_length_cln</th>\n",
       "      <th>...</th>\n",
       "      <th>is_layak</th>\n",
       "      <th>is_pakaian</th>\n",
       "      <th>is_konsumen</th>\n",
       "      <th>is_pahala</th>\n",
       "      <th>is_kondisi</th>\n",
       "      <th>is_membutuhkan</th>\n",
       "      <th>is_karena</th>\n",
       "      <th>count_stopwords</th>\n",
       "      <th>count_topwords</th>\n",
       "      <th>RESPOND_USED</th>\n",
       "    </tr>\n",
       "  </thead>\n",
       "  <tbody>\n",
       "    <tr>\n",
       "      <th>0</th>\n",
       "      <td>TRB1</td>\n",
       "      <td>Karena orang berpikir bahwa jika disumbangkan ...</td>\n",
       "      <td>1</td>\n",
       "      <td>orang berpikir disumbangkan produksi pakaian b...</td>\n",
       "      <td>karena orang berpikir bahwa jika disumbangkan ...</td>\n",
       "      <td>13</td>\n",
       "      <td>6</td>\n",
       "      <td>13</td>\n",
       "      <td>6.615385</td>\n",
       "      <td>8.000000</td>\n",
       "      <td>...</td>\n",
       "      <td>0</td>\n",
       "      <td>1</td>\n",
       "      <td>0</td>\n",
       "      <td>0</td>\n",
       "      <td>0</td>\n",
       "      <td>0</td>\n",
       "      <td>1</td>\n",
       "      <td>7</td>\n",
       "      <td>4</td>\n",
       "      <td>karena orang berpikir bahwa jika disumbangkan ...</td>\n",
       "    </tr>\n",
       "    <tr>\n",
       "      <th>1</th>\n",
       "      <td>TRB2</td>\n",
       "      <td>Pakaian awet adalah alternatif terhadap Fast F...</td>\n",
       "      <td>0</td>\n",
       "      <td>pakaian awet alternatif fast fashion pakaian a...</td>\n",
       "      <td>pakaian awet adalah alternatif terhadap fast f...</td>\n",
       "      <td>50</td>\n",
       "      <td>24</td>\n",
       "      <td>45</td>\n",
       "      <td>5.640000</td>\n",
       "      <td>6.125000</td>\n",
       "      <td>...</td>\n",
       "      <td>0</td>\n",
       "      <td>1</td>\n",
       "      <td>1</td>\n",
       "      <td>0</td>\n",
       "      <td>0</td>\n",
       "      <td>0</td>\n",
       "      <td>1</td>\n",
       "      <td>24</td>\n",
       "      <td>6</td>\n",
       "      <td>pakaian awet adalah alternatif terhadap fast f...</td>\n",
       "    </tr>\n",
       "    <tr>\n",
       "      <th>2</th>\n",
       "      <td>TRB3</td>\n",
       "      <td>karna orang lebih suka menyumbang</td>\n",
       "      <td>1</td>\n",
       "      <td>orang suka menyumbang</td>\n",
       "      <td>karna orang lebih suka menyumbang</td>\n",
       "      <td>5</td>\n",
       "      <td>3</td>\n",
       "      <td>5</td>\n",
       "      <td>5.800000</td>\n",
       "      <td>6.333333</td>\n",
       "      <td>...</td>\n",
       "      <td>0</td>\n",
       "      <td>0</td>\n",
       "      <td>0</td>\n",
       "      <td>0</td>\n",
       "      <td>0</td>\n",
       "      <td>0</td>\n",
       "      <td>1</td>\n",
       "      <td>2</td>\n",
       "      <td>2</td>\n",
       "      <td>karna orang lebih suka menyumbang 0 0 0 0 0 0 ...</td>\n",
       "    </tr>\n",
       "    <tr>\n",
       "      <th>3</th>\n",
       "      <td>TRB4</td>\n",
       "      <td>karana harga nya terjangkau dan pas.</td>\n",
       "      <td>0</td>\n",
       "      <td>harga terjangkau pas</td>\n",
       "      <td>karana harga terjangkau</td>\n",
       "      <td>6</td>\n",
       "      <td>3</td>\n",
       "      <td>3</td>\n",
       "      <td>5.166667</td>\n",
       "      <td>6.000000</td>\n",
       "      <td>...</td>\n",
       "      <td>0</td>\n",
       "      <td>0</td>\n",
       "      <td>0</td>\n",
       "      <td>0</td>\n",
       "      <td>0</td>\n",
       "      <td>0</td>\n",
       "      <td>1</td>\n",
       "      <td>3</td>\n",
       "      <td>0</td>\n",
       "      <td>karana harga terjangkau 0 0 0 0 0 0 0 0 0 0 0 0</td>\n",
       "    </tr>\n",
       "    <tr>\n",
       "      <th>4</th>\n",
       "      <td>TRB5</td>\n",
       "      <td>kerena harganya mahal .</td>\n",
       "      <td>0</td>\n",
       "      <td>kerena harganya mahal</td>\n",
       "      <td>kerena harganya mahal</td>\n",
       "      <td>4</td>\n",
       "      <td>3</td>\n",
       "      <td>3</td>\n",
       "      <td>5.000000</td>\n",
       "      <td>6.333333</td>\n",
       "      <td>...</td>\n",
       "      <td>0</td>\n",
       "      <td>0</td>\n",
       "      <td>0</td>\n",
       "      <td>0</td>\n",
       "      <td>0</td>\n",
       "      <td>0</td>\n",
       "      <td>0</td>\n",
       "      <td>0</td>\n",
       "      <td>0</td>\n",
       "      <td>kerena harganya mahal 0 0 0 0 0 0 0 0 0 0 0 0</td>\n",
       "    </tr>\n",
       "  </tbody>\n",
       "</table>\n",
       "<p>5 rows × 31 columns</p>\n",
       "</div>"
      ],
      "text/plain": [
       "  RES_ID                                           RESPONSE  LABEL  \\\n",
       "0   TRB1  Karena orang berpikir bahwa jika disumbangkan ...      1   \n",
       "1   TRB2  Pakaian awet adalah alternatif terhadap Fast F...      0   \n",
       "2   TRB3                  karna orang lebih suka menyumbang      1   \n",
       "3   TRB4               karana harga nya terjangkau dan pas.      0   \n",
       "4   TRB5                            kerena harganya mahal .      0   \n",
       "\n",
       "                                        RESPONSE_CLN  \\\n",
       "0  orang berpikir disumbangkan produksi pakaian b...   \n",
       "1  pakaian awet alternatif fast fashion pakaian a...   \n",
       "2                              orang suka menyumbang   \n",
       "3                               harga terjangkau pas   \n",
       "4                              kerena harganya mahal   \n",
       "\n",
       "                                       RESPONSE_CLN2  count_word  \\\n",
       "0  karena orang berpikir bahwa jika disumbangkan ...          13   \n",
       "1  pakaian awet adalah alternatif terhadap fast f...          50   \n",
       "2                  karna orang lebih suka menyumbang           5   \n",
       "3                            karana harga terjangkau           6   \n",
       "4                              kerena harganya mahal           4   \n",
       "\n",
       "   count_word_cln  count_word_cln2  avg_word_length  avg_word_length_cln  ...  \\\n",
       "0               6               13         6.615385             8.000000  ...   \n",
       "1              24               45         5.640000             6.125000  ...   \n",
       "2               3                5         5.800000             6.333333  ...   \n",
       "3               3                3         5.166667             6.000000  ...   \n",
       "4               3                3         5.000000             6.333333  ...   \n",
       "\n",
       "   is_layak  is_pakaian  is_konsumen  is_pahala  is_kondisi  is_membutuhkan  \\\n",
       "0         0           1            0          0           0               0   \n",
       "1         0           1            1          0           0               0   \n",
       "2         0           0            0          0           0               0   \n",
       "3         0           0            0          0           0               0   \n",
       "4         0           0            0          0           0               0   \n",
       "\n",
       "   is_karena  count_stopwords  count_topwords  \\\n",
       "0          1                7               4   \n",
       "1          1               24               6   \n",
       "2          1                2               2   \n",
       "3          1                3               0   \n",
       "4          0                0               0   \n",
       "\n",
       "                                        RESPOND_USED  \n",
       "0  karena orang berpikir bahwa jika disumbangkan ...  \n",
       "1  pakaian awet adalah alternatif terhadap fast f...  \n",
       "2  karna orang lebih suka menyumbang 0 0 0 0 0 0 ...  \n",
       "3    karana harga terjangkau 0 0 0 0 0 0 0 0 0 0 0 0  \n",
       "4      kerena harganya mahal 0 0 0 0 0 0 0 0 0 0 0 0  \n",
       "\n",
       "[5 rows x 31 columns]"
      ]
     },
     "execution_count": 61,
     "metadata": {},
     "output_type": "execute_result"
    }
   ],
   "source": [
    "data_raw2.head()"
   ]
  },
  {
   "cell_type": "code",
   "execution_count": null,
   "metadata": {},
   "outputs": [],
   "source": []
  },
  {
   "cell_type": "code",
   "execution_count": 62,
   "metadata": {},
   "outputs": [],
   "source": [
    "model_vec.wv.save(MODEL_PATH+\"embedding_B.wv\")\n",
    "# wv = KeyedVectors.load(\"model.wv\", mmap='r')"
   ]
  },
  {
   "cell_type": "code",
   "execution_count": 63,
   "metadata": {},
   "outputs": [],
   "source": [
    "data_raw2.to_csv(PROCESSED_PATH+'20190902_data_clean_B.csv',index=False)"
   ]
  },
  {
   "cell_type": "code",
   "execution_count": 64,
   "metadata": {},
   "outputs": [
    {
     "data": {
      "text/plain": [
       "<gensim.models.keyedvectors.Vocab at 0x117e816d8>"
      ]
     },
     "execution_count": 64,
     "metadata": {},
     "output_type": "execute_result"
    }
   ],
   "source": [
    "model_vec.wv.vocab['amal']"
   ]
  },
  {
   "cell_type": "code",
   "execution_count": 68,
   "metadata": {},
   "outputs": [
    {
     "data": {
      "text/plain": [
       "[('yang', 0.9666565656661987),\n",
       " ('tidak', 0.9606972336769104),\n",
       " ('lebih', 0.9587154984474182),\n",
       " ('dari', 0.9567580223083496),\n",
       " ('bisa', 0.9566189646720886),\n",
       " ('untuk', 0.9546775817871094),\n",
       " ('pakaian', 0.9539958834648132),\n",
       " ('produksi', 0.9512749910354614),\n",
       " ('kaus', 0.9511530995368958),\n",
       " ('sebuah', 0.9499021172523499)]"
      ]
     },
     "execution_count": 68,
     "metadata": {},
     "output_type": "execute_result"
    }
   ],
   "source": [
    "model_vec.wv.most_similar('karena')"
   ]
  },
  {
   "cell_type": "markdown",
   "metadata": {},
   "source": [
    "## Conclusions"
   ]
  },
  {
   "cell_type": "code",
   "execution_count": null,
   "metadata": {},
   "outputs": [],
   "source": []
  },
  {
   "cell_type": "code",
   "execution_count": null,
   "metadata": {},
   "outputs": [],
   "source": []
  },
  {
   "cell_type": "code",
   "execution_count": null,
   "metadata": {},
   "outputs": [],
   "source": []
  }
 ],
 "metadata": {
  "kernelspec": {
   "display_name": "Python [conda env:py36]",
   "language": "python",
   "name": "conda-env-py36-py"
  },
  "language_info": {
   "codemirror_mode": {
    "name": "ipython",
    "version": 3
   },
   "file_extension": ".py",
   "mimetype": "text/x-python",
   "name": "python",
   "nbconvert_exporter": "python",
   "pygments_lexer": "ipython3",
   "version": "3.6.7"
  }
 },
 "nbformat": 4,
 "nbformat_minor": 2
}
