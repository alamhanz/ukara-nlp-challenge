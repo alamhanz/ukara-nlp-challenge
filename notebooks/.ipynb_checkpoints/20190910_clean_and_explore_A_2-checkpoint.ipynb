{
 "cells": [
  {
   "cell_type": "markdown",
   "metadata": {},
   "source": [
    "# Clean & Explore for Data A (Part 2)\n",
    "\n",
    "Cleaning and Exploring Data A\n",
    "\n",
    "# Goal\n",
    "\n",
    "Goal of the notebook is to cleaning text for A and explore the context.\n",
    "\n",
    "Goal of A : siswa memberikan jawaban yang mengindikasikan beberapa hal yang bisa dilakukan ketika seseorang berpindah lokasi karena permasalahan dalam pertanyaan. Kemudian dapat menjelaskan tantangan berupa poin mengenai komunikasi, finansial, ekonomi dan sosial dalam kehidupan yang baru karena perpindahan.  \n",
    "\n",
    "\n",
    "# Plan\n",
    "\n",
    "Checklist what will be done on the notebook :\n",
    "\n",
    "    [*] Get Data A\n",
    "    [*] Skimming\n",
    "    [ ] Data Preparation\n",
    "    [ ] Explore it\n",
    "\n",
    "# Summary\n",
    "\n",
    "Summary result of the notebook\n"
   ]
  },
  {
   "cell_type": "code",
   "execution_count": 1,
   "metadata": {},
   "outputs": [],
   "source": [
    "import pandas as pd\n",
    "import numpy as np\n",
    "import matplotlib.pyplot as plt\n",
    "import seaborn as sns\n",
    "import re\n",
    "from nltk.tokenize import word_tokenize\n",
    "\n",
    "import gensim"
   ]
  },
  {
   "cell_type": "code",
   "execution_count": 2,
   "metadata": {},
   "outputs": [],
   "source": [
    "RAW_PATH=\"../data/raw/\"\n",
    "INTERIM_PATH=\"../data/interim/\"\n",
    "PROCESSED_PATH=\"../data/processed/\"\n",
    "MODEL_PATH=\"../models/\"\n",
    "SRC_PATH='../src/'"
   ]
  },
  {
   "cell_type": "code",
   "execution_count": 3,
   "metadata": {},
   "outputs": [],
   "source": [
    "stoplist=open(SRC_PATH+'stopwords_id.txt').read().split('\\n')+['nya','yg','yng']"
   ]
  },
  {
   "cell_type": "code",
   "execution_count": 4,
   "metadata": {},
   "outputs": [],
   "source": [
    "def clean_word(s):\n",
    "    try:\n",
    "        s0=re.sub(r'[^\\w\\s]',' ',s)\n",
    "        s0=re.sub(\"\\d+\",' ',s0)\n",
    "        s0=word_tokenize(s0.lower())\n",
    "        #s1=[w for w in s0 if w not in stoplist]\n",
    "        s1=' '.join(s1)\n",
    "    except:\n",
    "        s1=''\n",
    "    return s1"
   ]
  },
  {
   "cell_type": "markdown",
   "metadata": {},
   "source": [
    "## Get Data"
   ]
  },
  {
   "cell_type": "code",
   "execution_count": 5,
   "metadata": {},
   "outputs": [],
   "source": [
    "data_raw=pd.read_csv(RAW_PATH+'data_train_A.csv')"
   ]
  },
  {
   "cell_type": "code",
   "execution_count": null,
   "metadata": {},
   "outputs": [],
   "source": []
  },
  {
   "cell_type": "markdown",
   "metadata": {},
   "source": [
    "## Skimming"
   ]
  },
  {
   "cell_type": "code",
   "execution_count": 6,
   "metadata": {},
   "outputs": [
    {
     "data": {
      "text/html": [
       "<div>\n",
       "<style scoped>\n",
       "    .dataframe tbody tr th:only-of-type {\n",
       "        vertical-align: middle;\n",
       "    }\n",
       "\n",
       "    .dataframe tbody tr th {\n",
       "        vertical-align: top;\n",
       "    }\n",
       "\n",
       "    .dataframe thead th {\n",
       "        text-align: right;\n",
       "    }\n",
       "</style>\n",
       "<table border=\"1\" class=\"dataframe\">\n",
       "  <thead>\n",
       "    <tr style=\"text-align: right;\">\n",
       "      <th></th>\n",
       "      <th>RES_ID</th>\n",
       "      <th>RESPONSE</th>\n",
       "      <th>LABEL</th>\n",
       "    </tr>\n",
       "  </thead>\n",
       "  <tbody>\n",
       "    <tr>\n",
       "      <th>0</th>\n",
       "      <td>TRA1</td>\n",
       "      <td>intetraksi/beradaptasi terhadap lingkungan yan...</td>\n",
       "      <td>1</td>\n",
       "    </tr>\n",
       "    <tr>\n",
       "      <th>1</th>\n",
       "      <td>TRA2</td>\n",
       "      <td>seperti jatuhnya meteor tsunami gempa bumi</td>\n",
       "      <td>0</td>\n",
       "    </tr>\n",
       "    <tr>\n",
       "      <th>2</th>\n",
       "      <td>TRA3</td>\n",
       "      <td>hanya tuhan yang tahu tantangan nya itu apaan</td>\n",
       "      <td>0</td>\n",
       "    </tr>\n",
       "    <tr>\n",
       "      <th>3</th>\n",
       "      <td>TRA4</td>\n",
       "      <td>mereka akan sulit beradaptasi</td>\n",
       "      <td>1</td>\n",
       "    </tr>\n",
       "    <tr>\n",
       "      <th>4</th>\n",
       "      <td>TRA5</td>\n",
       "      <td>Tempat tinggal, ekonomi, dan pekerjaan</td>\n",
       "      <td>1</td>\n",
       "    </tr>\n",
       "  </tbody>\n",
       "</table>\n",
       "</div>"
      ],
      "text/plain": [
       "  RES_ID                                           RESPONSE  LABEL\n",
       "0   TRA1  intetraksi/beradaptasi terhadap lingkungan yan...      1\n",
       "1   TRA2         seperti jatuhnya meteor tsunami gempa bumi      0\n",
       "2   TRA3      hanya tuhan yang tahu tantangan nya itu apaan      0\n",
       "3   TRA4                      mereka akan sulit beradaptasi      1\n",
       "4   TRA5             Tempat tinggal, ekonomi, dan pekerjaan      1"
      ]
     },
     "execution_count": 6,
     "metadata": {},
     "output_type": "execute_result"
    }
   ],
   "source": [
    "data_raw.head()"
   ]
  },
  {
   "cell_type": "code",
   "execution_count": 7,
   "metadata": {},
   "outputs": [
    {
     "data": {
      "text/plain": [
       "(268, 3)"
      ]
     },
     "execution_count": 7,
     "metadata": {},
     "output_type": "execute_result"
    }
   ],
   "source": [
    "data_raw.shape"
   ]
  },
  {
   "cell_type": "code",
   "execution_count": 8,
   "metadata": {},
   "outputs": [
    {
     "data": {
      "text/plain": [
       "0.7126865671641791"
      ]
     },
     "execution_count": 8,
     "metadata": {},
     "output_type": "execute_result"
    }
   ],
   "source": [
    "data_raw.LABEL.mean()"
   ]
  },
  {
   "cell_type": "code",
   "execution_count": 9,
   "metadata": {},
   "outputs": [
    {
     "data": {
      "text/plain": [
       "0      intetraksi/beradaptasi terhadap lingkungan yan...\n",
       "1             seperti jatuhnya meteor tsunami gempa bumi\n",
       "2          hanya tuhan yang tahu tantangan nya itu apaan\n",
       "3                          mereka akan sulit beradaptasi\n",
       "4                 Tempat tinggal, ekonomi, dan pekerjaan\n",
       "5      akan terganggu dengan kesehatanya karena merek...\n",
       "6      Mereka tidak akan di hormati oleh orang layakn...\n",
       "7                mereka akan kehilangan lahan pertanian.\n",
       "8      Pada kasus-kasus seperti salah satunya yang te...\n",
       "9                        mendapat musibah dan melawannya\n",
       "10               karena mereka butuh tempat tinggal baru\n",
       "11     Akan kehilangan tempat tinggal yang lama atau ...\n",
       "12                mereka akan pindah ke tempat yang dulu\n",
       "13                                           beradaptasi\n",
       "14     Pengungsi iklim ini orang-orang yang terpaksa ...\n",
       "15     karna mereka tidak mau terkena iklim yang sang...\n",
       "16     keadaan yg tidak memadai serta kurangnya fasil...\n",
       "17     Pengungsi iklim adalah orang-orang yang terpak...\n",
       "18                               fkjgrioejtklejtdfljlkgr\n",
       "19                                           merasa aneh\n",
       "20     satu tantangan yang akan dihadapi pengungsi ad...\n",
       "21                      akan terjadinya perubahan tempat\n",
       "22         karena,akan ada bencana alam yang akan datang\n",
       "23     Mereka perlu adaptasi dan harus rela berpisah ...\n",
       "24     tidak terjamin dengan semua kebutuhannya, dan ...\n",
       "25     orang-orang yang trpaksa meninggalkan komunita...\n",
       "26     Mereka tidak akan mudah menyesuaikan hidup mer...\n",
       "27     mereka akan kehilangan sebagian besar atau bah...\n",
       "28                     tidak mempunyai tempat yang tetap\n",
       "29     masalah yang dapatdidapatkan oleh pengngungsi ...\n",
       "                             ...                        \n",
       "238           jika nanti terjadi perubahan iklim gmna???\n",
       "239    Kedaan ini adalah pengecualian dan kehidupan o...\n",
       "240         cara menyesuaikan diri di lingkungannya baru\n",
       "241    Bagainmana jika pengungsi berpindah dari Travi...\n",
       "242    warga mungkin dipaksa untuk menjadi pengungsi ...\n",
       "243      tantangan yang paling utama adalah beradaptasi.\n",
       "244    mereka tidak dapat beradaptasi terhadap lingku...\n",
       "245            beradaptasi terhadap lingkungan yang baru\n",
       "246                                             terpaksa\n",
       "247         akan mendapatkan negara yang bagus dan aman.\n",
       "248                                             APA SATU\n",
       "249                                          beradaptasi\n",
       "250    mereka mungkin akan susah untuk beradaptasi de...\n",
       "251    pengungsi ikllim adalah orang-orang yang terpa...\n",
       "252                            meminta bertanggung jawab\n",
       "253    bertempat tinggal dengan orang orang yang tida...\n",
       "254    Akan bertemu dengan orang-orang baru dan menda...\n",
       "255                                    susah beradaptasi\n",
       "256    pengungsi iklim akan pindah ketempat baru,mung...\n",
       "257    MEREKA AKAN MEMULAI KEHIDUPAN BARU,MEREKA PUN ...\n",
       "258    tidak nyaman,memikirkan tempat yang dulu ia te...\n",
       "259             harus menyesuaikan dengan linkungan baru\n",
       "260    tidak disukai oleh negara lain atau cuma menja...\n",
       "261    mereka akann kesusahan mencari pekerjaan karen...\n",
       "262    ia akan kehilangan lahan pertanian dan akan be...\n",
       "263    mereka harus belajar beradaptasi pada lingkung...\n",
       "264    Salah satu tantangan yang akan dihadapi para p...\n",
       "265    mereka akan menghadapi lingkungan lain yang mu...\n",
       "266    Mereka akan berbaur dengan orang-orang baru, B...\n",
       "267                               Mencari tempat tinggal\n",
       "Name: RESPONSE, Length: 268, dtype: object"
      ]
     },
     "execution_count": 9,
     "metadata": {},
     "output_type": "execute_result"
    }
   ],
   "source": [
    "data_raw.RESPONSE"
   ]
  },
  {
   "cell_type": "code",
   "execution_count": 10,
   "metadata": {},
   "outputs": [
    {
     "data": {
      "text/plain": [
       "23"
      ]
     },
     "execution_count": 10,
     "metadata": {},
     "output_type": "execute_result"
    }
   ],
   "source": [
    "len('fkjgrioejtklejtdfljlkgr')"
   ]
  },
  {
   "cell_type": "code",
   "execution_count": null,
   "metadata": {},
   "outputs": [],
   "source": []
  },
  {
   "cell_type": "markdown",
   "metadata": {},
   "source": [
    "## LDA to catch Stimulus Words"
   ]
  },
  {
   "cell_type": "code",
   "execution_count": null,
   "metadata": {},
   "outputs": [],
   "source": []
  },
  {
   "cell_type": "code",
   "execution_count": null,
   "metadata": {},
   "outputs": [],
   "source": []
  },
  {
   "cell_type": "markdown",
   "metadata": {},
   "source": [
    "## Data Preparation"
   ]
  },
  {
   "cell_type": "code",
   "execution_count": 14,
   "metadata": {},
   "outputs": [
    {
     "data": {
      "text/plain": [
       "array([['orang orang meninggalkan komunitas negaranya bencana lingkungan',\n",
       "        0],\n",
       "       ['penderitaan panas cuaca iklim', 0],\n",
       "       ['menahan suhu tubuh iklim negara', 1],\n",
       "       ['bencana alam', 0],\n",
       "       ['negara bagus aman', 0],\n",
       "       ['kenaikan permukaan air laut', 0],\n",
       "       ['tantangan dihadapi pengungsi iklim beradaptasi lingkungan barunya berbeda tinggal mencari lahan pekerjaan',\n",
       "        1],\n",
       "       ['suilt beradaptasi nyaman', 1],\n",
       "       ['pengungsi iklim', 0],\n",
       "       ['kehilangan lingkungan akibat bencana', 0]], dtype=object)"
      ]
     },
     "execution_count": 14,
     "metadata": {},
     "output_type": "execute_result"
    }
   ],
   "source": [
    "data_raw[['RESPONSE_CLN','LABEL']].sample(10).values"
   ]
  },
  {
   "cell_type": "code",
   "execution_count": 11,
   "metadata": {},
   "outputs": [],
   "source": [
    "def avg_word_len(s):\n",
    "    len_list=np.array([len(k) for k in s.split(' ')])\n",
    "    return len_list.mean()"
   ]
  },
  {
   "cell_type": "code",
   "execution_count": 12,
   "metadata": {},
   "outputs": [],
   "source": [
    "def data_raw_features_engA(data_raw):\n",
    "    stimulus_word=['berpindah','tantangan','komunikasi','ekonomi','sosial','adaptasi','pindah','suasana','baru','sulit']\n",
    "    \n",
    "    ## Number of the words\n",
    "    data_raw['RESPONSE_CLN']=data_raw.RESPONSE.apply(clean_word)\n",
    "    data_raw['count_word']=data_raw.RESPONSE.apply(lambda x : len(x.split(' ')))\n",
    "    data_raw['count_stopword']\n",
    "    data_raw['count_non_stopword']\n",
    "    data_raw['count_stimulus']\n",
    "    data_raw['count_non_stimulus'] \n",
    "\n",
    "    ## Average word length\n",
    "    data_raw['avg_word_length']=data_raw.RESPONSE.apply(avg_word_len)\n",
    "    data_raw['avg_word_length_cln']=data_raw.RESPONSE_CLN.apply(avg_word_len)\n",
    "    \n",
    "    data_raw2=data_raw.copy()\n",
    "    for w in stimulus_word:\n",
    "        data_raw2['is_'+w]=data_raw2.RESPONSE_CLN.apply(lambda x: int(w in x))"
   ]
  },
  {
   "cell_type": "code",
   "execution_count": null,
   "metadata": {},
   "outputs": [],
   "source": []
  },
  {
   "cell_type": "code",
   "execution_count": 17,
   "metadata": {},
   "outputs": [
    {
     "data": {
      "text/plain": [
       "is_berpindah     0.135563\n",
       "is_tantangan     0.315883\n",
       "is_komunikasi    0.061085\n",
       "is_ekonomi       0.121481\n",
       "is_sosial        0.105405\n",
       "is_adaptasi      0.440107\n",
       "is_pindah        0.286073\n",
       "is_suasana       0.105405\n",
       "is_baru          0.207199\n",
       "is_sulit         0.280623\n",
       "dtype: float64"
      ]
     },
     "execution_count": 17,
     "metadata": {},
     "output_type": "execute_result"
    }
   ],
   "source": [
    "## Check Variance every 'is'-columns\n",
    "data_raw2[[i for i in data_raw2.columns if 'is' in i]].std()"
   ]
  },
  {
   "cell_type": "code",
   "execution_count": null,
   "metadata": {},
   "outputs": [],
   "source": []
  },
  {
   "cell_type": "markdown",
   "metadata": {},
   "source": [
    "## Exploratory Data Analytics"
   ]
  },
  {
   "cell_type": "code",
   "execution_count": 18,
   "metadata": {},
   "outputs": [
    {
     "data": {
      "text/html": [
       "<div>\n",
       "<style scoped>\n",
       "    .dataframe tbody tr th:only-of-type {\n",
       "        vertical-align: middle;\n",
       "    }\n",
       "\n",
       "    .dataframe tbody tr th {\n",
       "        vertical-align: top;\n",
       "    }\n",
       "\n",
       "    .dataframe thead th {\n",
       "        text-align: right;\n",
       "    }\n",
       "</style>\n",
       "<table border=\"1\" class=\"dataframe\">\n",
       "  <thead>\n",
       "    <tr style=\"text-align: right;\">\n",
       "      <th></th>\n",
       "      <th>RES_ID</th>\n",
       "      <th>RESPONSE</th>\n",
       "      <th>LABEL</th>\n",
       "      <th>RESPONSE_CLN</th>\n",
       "      <th>count_word</th>\n",
       "      <th>count_word_cln</th>\n",
       "      <th>avg_word_length</th>\n",
       "      <th>avg_word_length_cln</th>\n",
       "      <th>is_berpindah</th>\n",
       "      <th>is_tantangan</th>\n",
       "      <th>is_komunikasi</th>\n",
       "      <th>is_ekonomi</th>\n",
       "      <th>is_sosial</th>\n",
       "      <th>is_adaptasi</th>\n",
       "      <th>is_pindah</th>\n",
       "      <th>is_suasana</th>\n",
       "      <th>is_baru</th>\n",
       "      <th>is_sulit</th>\n",
       "    </tr>\n",
       "  </thead>\n",
       "  <tbody>\n",
       "    <tr>\n",
       "      <th>217</th>\n",
       "      <td>TRA218</td>\n",
       "      <td>pertimbangan proyek</td>\n",
       "      <td>0</td>\n",
       "      <td>pertimbangan proyek</td>\n",
       "      <td>2</td>\n",
       "      <td>2</td>\n",
       "      <td>9.000000</td>\n",
       "      <td>9.0</td>\n",
       "      <td>0</td>\n",
       "      <td>0</td>\n",
       "      <td>0</td>\n",
       "      <td>0</td>\n",
       "      <td>0</td>\n",
       "      <td>0</td>\n",
       "      <td>0</td>\n",
       "      <td>0</td>\n",
       "      <td>0</td>\n",
       "      <td>0</td>\n",
       "    </tr>\n",
       "    <tr>\n",
       "      <th>147</th>\n",
       "      <td>TRA148</td>\n",
       "      <td>Perekonomian yang menurun dan mereka harus mem...</td>\n",
       "      <td>1</td>\n",
       "      <td>perekonomian menurun membangun kehidupan melan...</td>\n",
       "      <td>13</td>\n",
       "      <td>6</td>\n",
       "      <td>7.076923</td>\n",
       "      <td>10.0</td>\n",
       "      <td>0</td>\n",
       "      <td>0</td>\n",
       "      <td>0</td>\n",
       "      <td>1</td>\n",
       "      <td>0</td>\n",
       "      <td>0</td>\n",
       "      <td>0</td>\n",
       "      <td>0</td>\n",
       "      <td>0</td>\n",
       "      <td>0</td>\n",
       "    </tr>\n",
       "    <tr>\n",
       "      <th>6</th>\n",
       "      <td>TRA7</td>\n",
       "      <td>Mereka tidak akan di hormati oleh orang layakn...</td>\n",
       "      <td>0</td>\n",
       "      <td>hormati orang layaknya hormati tinggal</td>\n",
       "      <td>18</td>\n",
       "      <td>5</td>\n",
       "      <td>5.000000</td>\n",
       "      <td>6.8</td>\n",
       "      <td>0</td>\n",
       "      <td>0</td>\n",
       "      <td>0</td>\n",
       "      <td>0</td>\n",
       "      <td>0</td>\n",
       "      <td>0</td>\n",
       "      <td>0</td>\n",
       "      <td>0</td>\n",
       "      <td>0</td>\n",
       "      <td>0</td>\n",
       "    </tr>\n",
       "    <tr>\n",
       "      <th>225</th>\n",
       "      <td>TRA226</td>\n",
       "      <td>negara munggin menjari donasi hidup baru</td>\n",
       "      <td>0</td>\n",
       "      <td>negara munggin menjari donasi hidup</td>\n",
       "      <td>6</td>\n",
       "      <td>5</td>\n",
       "      <td>5.833333</td>\n",
       "      <td>6.2</td>\n",
       "      <td>0</td>\n",
       "      <td>0</td>\n",
       "      <td>0</td>\n",
       "      <td>0</td>\n",
       "      <td>0</td>\n",
       "      <td>0</td>\n",
       "      <td>0</td>\n",
       "      <td>0</td>\n",
       "      <td>0</td>\n",
       "      <td>0</td>\n",
       "    </tr>\n",
       "    <tr>\n",
       "      <th>189</th>\n",
       "      <td>TRA190</td>\n",
       "      <td>sulit bersosialisasi dengan keadaan iklim yang...</td>\n",
       "      <td>1</td>\n",
       "      <td>sulit bersosialisasi iklim</td>\n",
       "      <td>11</td>\n",
       "      <td>3</td>\n",
       "      <td>5.454545</td>\n",
       "      <td>8.0</td>\n",
       "      <td>0</td>\n",
       "      <td>0</td>\n",
       "      <td>0</td>\n",
       "      <td>0</td>\n",
       "      <td>1</td>\n",
       "      <td>0</td>\n",
       "      <td>0</td>\n",
       "      <td>0</td>\n",
       "      <td>0</td>\n",
       "      <td>1</td>\n",
       "    </tr>\n",
       "  </tbody>\n",
       "</table>\n",
       "</div>"
      ],
      "text/plain": [
       "     RES_ID                                           RESPONSE  LABEL  \\\n",
       "217  TRA218                                pertimbangan proyek      0   \n",
       "147  TRA148  Perekonomian yang menurun dan mereka harus mem...      1   \n",
       "6      TRA7  Mereka tidak akan di hormati oleh orang layakn...      0   \n",
       "225  TRA226           negara munggin menjari donasi hidup baru      0   \n",
       "189  TRA190  sulit bersosialisasi dengan keadaan iklim yang...      1   \n",
       "\n",
       "                                          RESPONSE_CLN  count_word  \\\n",
       "217                                pertimbangan proyek           2   \n",
       "147  perekonomian menurun membangun kehidupan melan...          13   \n",
       "6               hormati orang layaknya hormati tinggal          18   \n",
       "225                negara munggin menjari donasi hidup           6   \n",
       "189                         sulit bersosialisasi iklim          11   \n",
       "\n",
       "     count_word_cln  avg_word_length  avg_word_length_cln  is_berpindah  \\\n",
       "217               2         9.000000                  9.0             0   \n",
       "147               6         7.076923                 10.0             0   \n",
       "6                 5         5.000000                  6.8             0   \n",
       "225               5         5.833333                  6.2             0   \n",
       "189               3         5.454545                  8.0             0   \n",
       "\n",
       "     is_tantangan  is_komunikasi  is_ekonomi  is_sosial  is_adaptasi  \\\n",
       "217             0              0           0          0            0   \n",
       "147             0              0           1          0            0   \n",
       "6               0              0           0          0            0   \n",
       "225             0              0           0          0            0   \n",
       "189             0              0           0          1            0   \n",
       "\n",
       "     is_pindah  is_suasana  is_baru  is_sulit  \n",
       "217          0           0        0         0  \n",
       "147          0           0        0         0  \n",
       "6            0           0        0         0  \n",
       "225          0           0        0         0  \n",
       "189          0           0        0         1  "
      ]
     },
     "execution_count": 18,
     "metadata": {},
     "output_type": "execute_result"
    }
   ],
   "source": [
    "data_raw2.sample(5)"
   ]
  },
  {
   "cell_type": "code",
   "execution_count": 19,
   "metadata": {},
   "outputs": [
    {
     "data": {
      "text/plain": [
       "<matplotlib.axes._subplots.AxesSubplot at 0x10cdb4860>"
      ]
     },
     "execution_count": 19,
     "metadata": {},
     "output_type": "execute_result"
    },
    {
     "data": {
      "image/png": "[encoded data removed]",
      "text/plain": [
       "<Figure size 432x288 with 1 Axes>"
      ]
     },
     "metadata": {
      "needs_background": "light"
     },
     "output_type": "display_data"
    }
   ],
   "source": [
    "## Explore\n",
    "sns.scatterplot(x='count_word',y='avg_word_length',hue='LABEL',data=data_raw2)"
   ]
  },
  {
   "cell_type": "code",
   "execution_count": 20,
   "metadata": {},
   "outputs": [
    {
     "data": {
      "text/plain": [
       "<matplotlib.axes._subplots.AxesSubplot at 0x1a2909ba20>"
      ]
     },
     "execution_count": 20,
     "metadata": {},
     "output_type": "execute_result"
    },
    {
     "data": {
      "image/png": "[encoded data removed]",
      "text/plain": [
       "<Figure size 432x288 with 1 Axes>"
      ]
     },
     "metadata": {
      "needs_background": "light"
     },
     "output_type": "display_data"
    }
   ],
   "source": [
    "## Explore\n",
    "sns.scatterplot(x='count_word_cln',y='avg_word_length_cln',hue='LABEL',data=data_raw2)"
   ]
  },
  {
   "cell_type": "code",
   "execution_count": 21,
   "metadata": {},
   "outputs": [
    {
     "data": {
      "text/plain": [
       "count    268.000000\n",
       "mean       5.335821\n",
       "std        3.892649\n",
       "min        1.000000\n",
       "25%        3.000000\n",
       "50%        4.000000\n",
       "75%        7.000000\n",
       "max       21.000000\n",
       "Name: count_word_cln, dtype: float64"
      ]
     },
     "execution_count": 21,
     "metadata": {},
     "output_type": "execute_result"
    }
   ],
   "source": [
    "data_raw2.count_word_cln.describe()"
   ]
  },
  {
   "cell_type": "code",
   "execution_count": 22,
   "metadata": {},
   "outputs": [
    {
     "data": {
      "text/plain": [
       "is_berpindah    -0.034336\n",
       "is_tantangan     0.094659\n",
       "is_komunikasi    0.038857\n",
       "is_ekonomi       0.078155\n",
       "is_sosial        0.067556\n",
       "is_adaptasi      0.377524\n",
       "is_pindah        0.083618\n",
       "is_suasana      -0.167575\n",
       "is_baru          0.137467\n",
       "is_sulit         0.165101\n",
       "LABEL            1.000000\n",
       "Name: LABEL, dtype: float64"
      ]
     },
     "execution_count": 22,
     "metadata": {},
     "output_type": "execute_result"
    }
   ],
   "source": [
    "data_raw2[[i for i in data_raw2.columns if 'is' in i]+['LABEL']].corr()['LABEL']"
   ]
  },
  {
   "cell_type": "code",
   "execution_count": null,
   "metadata": {},
   "outputs": [],
   "source": []
  },
  {
   "cell_type": "code",
   "execution_count": 23,
   "metadata": {},
   "outputs": [
    {
     "data": {
      "text/plain": [
       "[1, 2, 3, 4, 5]"
      ]
     },
     "execution_count": 23,
     "metadata": {},
     "output_type": "execute_result"
    }
   ],
   "source": [
    "a=[1,2,3,4,5]\n",
    "a[:5]"
   ]
  },
  {
   "cell_type": "code",
   "execution_count": null,
   "metadata": {},
   "outputs": [],
   "source": []
  },
  {
   "cell_type": "code",
   "execution_count": 24,
   "metadata": {},
   "outputs": [],
   "source": [
    "def padding_words(word_list,n):\n",
    "    word_out=['0']*n\n",
    "    word_list0=word_list.copy()\n",
    "    if len(word_list)>n:\n",
    "        word_list0=word_list[:n]\n",
    "    word_out[:len(word_list0)] = word_list0\n",
    "    return word_out"
   ]
  },
  {
   "cell_type": "code",
   "execution_count": 25,
   "metadata": {},
   "outputs": [],
   "source": [
    "MAX_PADDING=10\n",
    "data_raw2['RESPOND_USED']=data_raw2.RESPONSE_CLN.apply(lambda x : ' '.join(padding_words(x.split(' '),MAX_PADDING)))"
   ]
  },
  {
   "cell_type": "code",
   "execution_count": null,
   "metadata": {},
   "outputs": [],
   "source": []
  },
  {
   "cell_type": "markdown",
   "metadata": {},
   "source": [
    "## Embedding Training"
   ]
  },
  {
   "cell_type": "code",
   "execution_count": 26,
   "metadata": {},
   "outputs": [],
   "source": [
    "# corpus=data_raw2.RESPONSE_CLN.tolist()\n",
    "corpus=data_raw2.RESPONSE_CLN.tolist()\n",
    "words=[doc.split(' ') for doc in corpus]"
   ]
  },
  {
   "cell_type": "code",
   "execution_count": 27,
   "metadata": {},
   "outputs": [],
   "source": [
    "EMBED_SIZE=80\n",
    "model_vec = gensim.models.Word2Vec(\n",
    "        words,\n",
    "        size=EMBED_SIZE,\n",
    "        window=3,\n",
    "        min_count=3)"
   ]
  },
  {
   "cell_type": "code",
   "execution_count": 28,
   "metadata": {},
   "outputs": [],
   "source": [
    "# model_vec.wv.most_similar('nyaman')"
   ]
  },
  {
   "cell_type": "code",
   "execution_count": null,
   "metadata": {},
   "outputs": [],
   "source": []
  },
  {
   "cell_type": "markdown",
   "metadata": {},
   "source": [
    "## Save Embbed and Data"
   ]
  },
  {
   "cell_type": "code",
   "execution_count": 29,
   "metadata": {},
   "outputs": [
    {
     "data": {
      "text/html": [
       "<div>\n",
       "<style scoped>\n",
       "    .dataframe tbody tr th:only-of-type {\n",
       "        vertical-align: middle;\n",
       "    }\n",
       "\n",
       "    .dataframe tbody tr th {\n",
       "        vertical-align: top;\n",
       "    }\n",
       "\n",
       "    .dataframe thead th {\n",
       "        text-align: right;\n",
       "    }\n",
       "</style>\n",
       "<table border=\"1\" class=\"dataframe\">\n",
       "  <thead>\n",
       "    <tr style=\"text-align: right;\">\n",
       "      <th></th>\n",
       "      <th>RES_ID</th>\n",
       "      <th>RESPONSE</th>\n",
       "      <th>LABEL</th>\n",
       "      <th>RESPONSE_CLN</th>\n",
       "      <th>count_word</th>\n",
       "      <th>count_word_cln</th>\n",
       "      <th>avg_word_length</th>\n",
       "      <th>avg_word_length_cln</th>\n",
       "      <th>is_berpindah</th>\n",
       "      <th>is_tantangan</th>\n",
       "      <th>is_komunikasi</th>\n",
       "      <th>is_ekonomi</th>\n",
       "      <th>is_sosial</th>\n",
       "      <th>is_adaptasi</th>\n",
       "      <th>is_pindah</th>\n",
       "      <th>is_suasana</th>\n",
       "      <th>is_baru</th>\n",
       "      <th>is_sulit</th>\n",
       "      <th>RESPOND_USED</th>\n",
       "    </tr>\n",
       "  </thead>\n",
       "  <tbody>\n",
       "    <tr>\n",
       "      <th>0</th>\n",
       "      <td>TRA1</td>\n",
       "      <td>intetraksi/beradaptasi terhadap lingkungan yan...</td>\n",
       "      <td>1</td>\n",
       "      <td>intetraksi beradaptasi lingkungan</td>\n",
       "      <td>5</td>\n",
       "      <td>3</td>\n",
       "      <td>9.800000</td>\n",
       "      <td>10.333333</td>\n",
       "      <td>0</td>\n",
       "      <td>0</td>\n",
       "      <td>0</td>\n",
       "      <td>0</td>\n",
       "      <td>0</td>\n",
       "      <td>1</td>\n",
       "      <td>0</td>\n",
       "      <td>0</td>\n",
       "      <td>0</td>\n",
       "      <td>0</td>\n",
       "      <td>intetraksi beradaptasi lingkungan 0 0 0 0 0 0 0</td>\n",
       "    </tr>\n",
       "    <tr>\n",
       "      <th>1</th>\n",
       "      <td>TRA2</td>\n",
       "      <td>seperti jatuhnya meteor tsunami gempa bumi</td>\n",
       "      <td>0</td>\n",
       "      <td>jatuhnya meteor tsunami gempa bumi</td>\n",
       "      <td>6</td>\n",
       "      <td>5</td>\n",
       "      <td>6.166667</td>\n",
       "      <td>6.000000</td>\n",
       "      <td>0</td>\n",
       "      <td>0</td>\n",
       "      <td>0</td>\n",
       "      <td>0</td>\n",
       "      <td>0</td>\n",
       "      <td>0</td>\n",
       "      <td>0</td>\n",
       "      <td>0</td>\n",
       "      <td>0</td>\n",
       "      <td>0</td>\n",
       "      <td>jatuhnya meteor tsunami gempa bumi 0 0 0 0 0</td>\n",
       "    </tr>\n",
       "    <tr>\n",
       "      <th>2</th>\n",
       "      <td>TRA3</td>\n",
       "      <td>hanya tuhan yang tahu tantangan nya itu apaan</td>\n",
       "      <td>0</td>\n",
       "      <td>tuhan tantangan</td>\n",
       "      <td>8</td>\n",
       "      <td>2</td>\n",
       "      <td>4.750000</td>\n",
       "      <td>7.000000</td>\n",
       "      <td>0</td>\n",
       "      <td>1</td>\n",
       "      <td>0</td>\n",
       "      <td>0</td>\n",
       "      <td>0</td>\n",
       "      <td>0</td>\n",
       "      <td>0</td>\n",
       "      <td>0</td>\n",
       "      <td>0</td>\n",
       "      <td>0</td>\n",
       "      <td>tuhan tantangan 0 0 0 0 0 0 0 0</td>\n",
       "    </tr>\n",
       "    <tr>\n",
       "      <th>3</th>\n",
       "      <td>TRA4</td>\n",
       "      <td>mereka akan sulit beradaptasi</td>\n",
       "      <td>1</td>\n",
       "      <td>sulit beradaptasi</td>\n",
       "      <td>4</td>\n",
       "      <td>2</td>\n",
       "      <td>6.500000</td>\n",
       "      <td>8.000000</td>\n",
       "      <td>0</td>\n",
       "      <td>0</td>\n",
       "      <td>0</td>\n",
       "      <td>0</td>\n",
       "      <td>0</td>\n",
       "      <td>1</td>\n",
       "      <td>0</td>\n",
       "      <td>0</td>\n",
       "      <td>0</td>\n",
       "      <td>1</td>\n",
       "      <td>sulit beradaptasi 0 0 0 0 0 0 0 0</td>\n",
       "    </tr>\n",
       "    <tr>\n",
       "      <th>4</th>\n",
       "      <td>TRA5</td>\n",
       "      <td>Tempat tinggal, ekonomi, dan pekerjaan</td>\n",
       "      <td>1</td>\n",
       "      <td>tinggal ekonomi pekerjaan</td>\n",
       "      <td>5</td>\n",
       "      <td>3</td>\n",
       "      <td>6.800000</td>\n",
       "      <td>7.666667</td>\n",
       "      <td>0</td>\n",
       "      <td>0</td>\n",
       "      <td>0</td>\n",
       "      <td>1</td>\n",
       "      <td>0</td>\n",
       "      <td>0</td>\n",
       "      <td>0</td>\n",
       "      <td>0</td>\n",
       "      <td>0</td>\n",
       "      <td>0</td>\n",
       "      <td>tinggal ekonomi pekerjaan 0 0 0 0 0 0 0</td>\n",
       "    </tr>\n",
       "  </tbody>\n",
       "</table>\n",
       "</div>"
      ],
      "text/plain": [
       "  RES_ID                                           RESPONSE  LABEL  \\\n",
       "0   TRA1  intetraksi/beradaptasi terhadap lingkungan yan...      1   \n",
       "1   TRA2         seperti jatuhnya meteor tsunami gempa bumi      0   \n",
       "2   TRA3      hanya tuhan yang tahu tantangan nya itu apaan      0   \n",
       "3   TRA4                      mereka akan sulit beradaptasi      1   \n",
       "4   TRA5             Tempat tinggal, ekonomi, dan pekerjaan      1   \n",
       "\n",
       "                         RESPONSE_CLN  count_word  count_word_cln  \\\n",
       "0   intetraksi beradaptasi lingkungan           5               3   \n",
       "1  jatuhnya meteor tsunami gempa bumi           6               5   \n",
       "2                     tuhan tantangan           8               2   \n",
       "3                   sulit beradaptasi           4               2   \n",
       "4           tinggal ekonomi pekerjaan           5               3   \n",
       "\n",
       "   avg_word_length  avg_word_length_cln  is_berpindah  is_tantangan  \\\n",
       "0         9.800000            10.333333             0             0   \n",
       "1         6.166667             6.000000             0             0   \n",
       "2         4.750000             7.000000             0             1   \n",
       "3         6.500000             8.000000             0             0   \n",
       "4         6.800000             7.666667             0             0   \n",
       "\n",
       "   is_komunikasi  is_ekonomi  is_sosial  is_adaptasi  is_pindah  is_suasana  \\\n",
       "0              0           0          0            1          0           0   \n",
       "1              0           0          0            0          0           0   \n",
       "2              0           0          0            0          0           0   \n",
       "3              0           0          0            1          0           0   \n",
       "4              0           1          0            0          0           0   \n",
       "\n",
       "   is_baru  is_sulit                                     RESPOND_USED  \n",
       "0        0         0  intetraksi beradaptasi lingkungan 0 0 0 0 0 0 0  \n",
       "1        0         0     jatuhnya meteor tsunami gempa bumi 0 0 0 0 0  \n",
       "2        0         0                  tuhan tantangan 0 0 0 0 0 0 0 0  \n",
       "3        0         1                sulit beradaptasi 0 0 0 0 0 0 0 0  \n",
       "4        0         0          tinggal ekonomi pekerjaan 0 0 0 0 0 0 0  "
      ]
     },
     "execution_count": 29,
     "metadata": {},
     "output_type": "execute_result"
    }
   ],
   "source": [
    "data_raw2.head()"
   ]
  },
  {
   "cell_type": "code",
   "execution_count": null,
   "metadata": {},
   "outputs": [],
   "source": []
  },
  {
   "cell_type": "code",
   "execution_count": 30,
   "metadata": {},
   "outputs": [],
   "source": [
    "model_vec.wv.save(MODEL_PATH+\"embedding_A.wv\")\n",
    "# wv = KeyedVectors.load(\"model.wv\", mmap='r')"
   ]
  },
  {
   "cell_type": "code",
   "execution_count": 31,
   "metadata": {},
   "outputs": [],
   "source": [
    "data_raw2.to_csv(PROCESSED_PATH+'20190902_data_clean_A.csv',index=False)"
   ]
  },
  {
   "cell_type": "code",
   "execution_count": 32,
   "metadata": {},
   "outputs": [
    {
     "data": {
      "text/plain": [
       "7"
      ]
     },
     "execution_count": 32,
     "metadata": {},
     "output_type": "execute_result"
    }
   ],
   "source": [
    "model_vec.wv.vocab['adaptasi'].count"
   ]
  },
  {
   "cell_type": "markdown",
   "metadata": {},
   "source": [
    "## Conclusions"
   ]
  },
  {
   "cell_type": "code",
   "execution_count": null,
   "metadata": {},
   "outputs": [],
   "source": []
  },
  {
   "cell_type": "code",
   "execution_count": null,
   "metadata": {},
   "outputs": [],
   "source": []
  }
 ],
 "metadata": {
  "kernelspec": {
   "display_name": "Python [conda env:py36]",
   "language": "python",
   "name": "conda-env-py36-py"
  },
  "language_info": {
   "codemirror_mode": {
    "name": "ipython",
    "version": 3
   },
   "file_extension": ".py",
   "mimetype": "text/x-python",
   "name": "python",
   "nbconvert_exporter": "python",
   "pygments_lexer": "ipython3",
   "version": "3.6.7"
  }
 },
 "nbformat": 4,
 "nbformat_minor": 2
}
