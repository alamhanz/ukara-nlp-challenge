{
 "cells": [
  {
   "cell_type": "markdown",
   "metadata": {},
   "source": [
    "# Modelling for Data A (v.1.0)\n",
    "\n",
    "Brief description of the notebook\n",
    "\n",
    "# Goal\n",
    "\n",
    "Goal of the notebook\n",
    "\n",
    "# Plan\n",
    "\n",
    "Checklist what will be done on the notebook :\n",
    "\n",
    "    [ ] Get Data\n",
    "    [ ] \n",
    "\n",
    "# Summary\n",
    "\n",
    "Summary result of the notebook\n"
   ]
  },
  {
   "cell_type": "code",
   "execution_count": 13,
   "metadata": {},
   "outputs": [],
   "source": [
    "import pandas as pd\n",
    "import matplotlib.pyplot as plt\n",
    "import gensim\n",
    "from gensim.models import KeyedVectors\n",
    "import numpy as np\n",
    "\n",
    "import torch\n",
    "from torch.autograd import Variable\n",
    "import random\n",
    "import matplotlib.pyplot as plt\n",
    "import torch.utils.data as utils_data\n",
    "from sklearn.preprocessing import LabelEncoder\n",
    "from sklearn.preprocessing import OneHotEncoder\n",
    "from sklearn.metrics import confusion_matrix\n",
    "from sklearn.model_selection import train_test_split"
   ]
  },
  {
   "cell_type": "code",
   "execution_count": null,
   "metadata": {},
   "outputs": [],
   "source": []
  },
  {
   "cell_type": "code",
   "execution_count": 14,
   "metadata": {},
   "outputs": [],
   "source": [
    "RAW_PATH=\"../data/raw/\"\n",
    "INTERIM_PATH=\"../data/interim/\"\n",
    "PROCESSED_PATH=\"../data/processed/\"\n",
    "MODEL_PATH=\"../models/\""
   ]
  },
  {
   "cell_type": "markdown",
   "metadata": {},
   "source": [
    "## Get Data"
   ]
  },
  {
   "cell_type": "code",
   "execution_count": 15,
   "metadata": {},
   "outputs": [
    {
     "name": "stderr",
     "output_type": "stream",
     "text": [
      "/Users/alamhanz/anaconda/envs/word_s/lib/python3.7/site-packages/smart_open/smart_open_lib.py:398: UserWarning: This function is deprecated, use smart_open.open instead. See the migration notes for details: https://github.com/RaRe-Technologies/smart_open/blob/master/README.rst#migrating-to-the-new-open-function\n",
      "  'See the migration notes for details: %s' % _MIGRATION_NOTES_URL\n"
     ]
    }
   ],
   "source": [
    "data_raw=pd.read_csv(PROCESSED_PATH+'20190902_data_clean_A.csv')\n",
    "wv = KeyedVectors.load(MODEL_PATH+\"embedding_A.wv\", mmap='r')"
   ]
  },
  {
   "cell_type": "code",
   "execution_count": 16,
   "metadata": {},
   "outputs": [
    {
     "data": {
      "text/plain": [
       "80"
      ]
     },
     "execution_count": 16,
     "metadata": {},
     "output_type": "execute_result"
    }
   ],
   "source": [
    "wv.vector_size"
   ]
  },
  {
   "cell_type": "code",
   "execution_count": 17,
   "metadata": {},
   "outputs": [],
   "source": [
    "def word_embbed(w):\n",
    "    vec=([0.0]*wv.vector_size)\n",
    "    try:\n",
    "        vec=wv[w].tolist()\n",
    "    except:\n",
    "        pass\n",
    "    return np.array(vec)\n",
    "\n",
    "def list_word_embbed(list_words):\n",
    "    embbed=[word_embbed(w) for w in list_words]\n",
    "    return np.asarray(embbed)"
   ]
  },
  {
   "cell_type": "code",
   "execution_count": 18,
   "metadata": {},
   "outputs": [
    {
     "data": {
      "text/plain": [
       "array([-9.5294940e-04,  5.1846337e-03,  5.7288995e-03, -4.4724508e-03,\n",
       "       -6.2305789e-04, -2.7070341e-03, -3.2154024e-03,  5.3687915e-03,\n",
       "       -4.9886643e-03,  4.6989527e-03, -5.9265657e-03, -1.3190313e-03,\n",
       "        7.7239441e-05,  5.5522309e-03, -2.1321762e-03, -1.7164085e-03,\n",
       "       -2.7102819e-03,  6.1222455e-03,  3.9987070e-03,  1.3120518e-03,\n",
       "        1.1361388e-04,  1.5908022e-03,  6.4066186e-04, -8.3160662e-04,\n",
       "       -2.2426604e-03, -4.6706516e-03, -3.0060436e-03, -4.3669702e-03,\n",
       "       -2.2438120e-03, -2.0003452e-03, -1.2344416e-03, -5.6321952e-03,\n",
       "       -3.7833375e-03, -4.5990048e-04,  2.9097435e-03, -3.6458720e-03,\n",
       "        3.0704793e-03,  3.9893733e-03, -2.9590349e-03,  4.3513137e-03,\n",
       "       -4.0631387e-03, -6.2769244e-04,  1.9212370e-03, -2.2402820e-03,\n",
       "       -5.4592933e-03,  5.8470513e-03, -5.2245576e-03, -2.6145626e-03,\n",
       "        3.9152862e-03, -1.4057759e-03, -2.2754383e-03,  3.7789885e-03,\n",
       "        7.5493037e-04, -3.0348101e-04, -3.6543205e-03, -3.6454089e-03,\n",
       "       -1.2273516e-03, -4.4682492e-03,  6.1449143e-03, -2.4903764e-03,\n",
       "        5.4002316e-03,  4.3383054e-03, -2.3626369e-04,  5.1151067e-03,\n",
       "        1.3096385e-03,  3.3630978e-03, -6.3059442e-03,  5.9187617e-03,\n",
       "       -5.7366579e-03,  1.2118100e-03,  3.2203668e-03, -4.5602983e-03,\n",
       "        2.5121369e-03,  8.2030124e-04, -2.4890006e-03,  1.9100377e-03,\n",
       "        2.1869231e-03, -8.3376613e-04,  3.0719216e-03,  2.5473009e-03],\n",
       "      dtype=float32)"
      ]
     },
     "execution_count": 18,
     "metadata": {},
     "output_type": "execute_result"
    }
   ],
   "source": [
    "wv['kesulitan']"
   ]
  },
  {
   "cell_type": "code",
   "execution_count": 19,
   "metadata": {},
   "outputs": [
    {
     "data": {
      "text/html": [
       "<div>\n",
       "<style scoped>\n",
       "    .dataframe tbody tr th:only-of-type {\n",
       "        vertical-align: middle;\n",
       "    }\n",
       "\n",
       "    .dataframe tbody tr th {\n",
       "        vertical-align: top;\n",
       "    }\n",
       "\n",
       "    .dataframe thead th {\n",
       "        text-align: right;\n",
       "    }\n",
       "</style>\n",
       "<table border=\"1\" class=\"dataframe\">\n",
       "  <thead>\n",
       "    <tr style=\"text-align: right;\">\n",
       "      <th></th>\n",
       "      <th>RES_ID</th>\n",
       "      <th>RESPONSE</th>\n",
       "      <th>LABEL</th>\n",
       "      <th>RESPONSE_CLN</th>\n",
       "      <th>count_word</th>\n",
       "      <th>count_word_cln</th>\n",
       "      <th>avg_word_length</th>\n",
       "      <th>avg_word_length_cln</th>\n",
       "      <th>is_berpindah</th>\n",
       "      <th>is_tantangan</th>\n",
       "      <th>is_komunikasi</th>\n",
       "      <th>is_ekonomi</th>\n",
       "      <th>is_sosial</th>\n",
       "      <th>is_adaptasi</th>\n",
       "      <th>is_pindah</th>\n",
       "      <th>is_suasana</th>\n",
       "      <th>is_baru</th>\n",
       "      <th>is_sulit</th>\n",
       "      <th>RESPOND_USED</th>\n",
       "    </tr>\n",
       "  </thead>\n",
       "  <tbody>\n",
       "    <tr>\n",
       "      <th>181</th>\n",
       "      <td>TRA182</td>\n",
       "      <td>kehilangan lingkungan kita akibat bencana .</td>\n",
       "      <td>0</td>\n",
       "      <td>kehilangan lingkungan akibat bencana</td>\n",
       "      <td>6</td>\n",
       "      <td>4</td>\n",
       "      <td>6.333333</td>\n",
       "      <td>8.250000</td>\n",
       "      <td>0</td>\n",
       "      <td>0</td>\n",
       "      <td>0</td>\n",
       "      <td>0</td>\n",
       "      <td>0</td>\n",
       "      <td>0</td>\n",
       "      <td>0</td>\n",
       "      <td>0</td>\n",
       "      <td>0</td>\n",
       "      <td>0</td>\n",
       "      <td>kehilangan lingkungan akibat bencana 0 0 0 0 0 0</td>\n",
       "    </tr>\n",
       "    <tr>\n",
       "      <th>139</th>\n",
       "      <td>TRA140</td>\n",
       "      <td>yang di hadapinya ketika di pindahkan di tempa...</td>\n",
       "      <td>1</td>\n",
       "      <td>hadapinya pindahkan sulit menyesuaikan</td>\n",
       "      <td>17</td>\n",
       "      <td>4</td>\n",
       "      <td>5.117647</td>\n",
       "      <td>8.750000</td>\n",
       "      <td>0</td>\n",
       "      <td>0</td>\n",
       "      <td>0</td>\n",
       "      <td>0</td>\n",
       "      <td>0</td>\n",
       "      <td>0</td>\n",
       "      <td>1</td>\n",
       "      <td>0</td>\n",
       "      <td>0</td>\n",
       "      <td>1</td>\n",
       "      <td>hadapinya pindahkan sulit menyesuaikan 0 0 0 0...</td>\n",
       "    </tr>\n",
       "    <tr>\n",
       "      <th>171</th>\n",
       "      <td>TRA172</td>\n",
       "      <td>Perlu menyesuaikan diri kembali</td>\n",
       "      <td>1</td>\n",
       "      <td>menyesuaikan</td>\n",
       "      <td>4</td>\n",
       "      <td>1</td>\n",
       "      <td>7.000000</td>\n",
       "      <td>12.000000</td>\n",
       "      <td>0</td>\n",
       "      <td>0</td>\n",
       "      <td>0</td>\n",
       "      <td>0</td>\n",
       "      <td>0</td>\n",
       "      <td>0</td>\n",
       "      <td>0</td>\n",
       "      <td>0</td>\n",
       "      <td>0</td>\n",
       "      <td>0</td>\n",
       "      <td>menyesuaikan 0 0 0 0 0 0 0 0 0</td>\n",
       "    </tr>\n",
       "    <tr>\n",
       "      <th>54</th>\n",
       "      <td>TRA55</td>\n",
       "      <td>akan kehilangan komunitas dan negaranya</td>\n",
       "      <td>1</td>\n",
       "      <td>kehilangan komunitas negaranya</td>\n",
       "      <td>5</td>\n",
       "      <td>3</td>\n",
       "      <td>7.000000</td>\n",
       "      <td>9.333333</td>\n",
       "      <td>0</td>\n",
       "      <td>0</td>\n",
       "      <td>0</td>\n",
       "      <td>0</td>\n",
       "      <td>0</td>\n",
       "      <td>0</td>\n",
       "      <td>0</td>\n",
       "      <td>0</td>\n",
       "      <td>0</td>\n",
       "      <td>0</td>\n",
       "      <td>kehilangan komunitas negaranya 0 0 0 0 0 0 0</td>\n",
       "    </tr>\n",
       "    <tr>\n",
       "      <th>77</th>\n",
       "      <td>TRA78</td>\n",
       "      <td>Mereka akan rugi karena mereka akan meninggalk...</td>\n",
       "      <td>0</td>\n",
       "      <td>rugi meninggalkan lahan pertanian tumbuh subur</td>\n",
       "      <td>14</td>\n",
       "      <td>6</td>\n",
       "      <td>5.928571</td>\n",
       "      <td>6.833333</td>\n",
       "      <td>0</td>\n",
       "      <td>0</td>\n",
       "      <td>0</td>\n",
       "      <td>0</td>\n",
       "      <td>0</td>\n",
       "      <td>0</td>\n",
       "      <td>0</td>\n",
       "      <td>0</td>\n",
       "      <td>0</td>\n",
       "      <td>0</td>\n",
       "      <td>rugi meninggalkan lahan pertanian tumbuh subur...</td>\n",
       "    </tr>\n",
       "    <tr>\n",
       "      <th>249</th>\n",
       "      <td>TRA250</td>\n",
       "      <td>beradaptasi</td>\n",
       "      <td>1</td>\n",
       "      <td>beradaptasi</td>\n",
       "      <td>1</td>\n",
       "      <td>1</td>\n",
       "      <td>11.000000</td>\n",
       "      <td>11.000000</td>\n",
       "      <td>0</td>\n",
       "      <td>0</td>\n",
       "      <td>0</td>\n",
       "      <td>0</td>\n",
       "      <td>0</td>\n",
       "      <td>1</td>\n",
       "      <td>0</td>\n",
       "      <td>0</td>\n",
       "      <td>0</td>\n",
       "      <td>0</td>\n",
       "      <td>beradaptasi 0 0 0 0 0 0 0 0 0</td>\n",
       "    </tr>\n",
       "    <tr>\n",
       "      <th>20</th>\n",
       "      <td>TRA21</td>\n",
       "      <td>satu tantangan yang akan dihadapi pengungsi ad...</td>\n",
       "      <td>1</td>\n",
       "      <td>tantangan dihadapi pengungsi kehilangan pekerj...</td>\n",
       "      <td>25</td>\n",
       "      <td>12</td>\n",
       "      <td>6.360000</td>\n",
       "      <td>8.166667</td>\n",
       "      <td>0</td>\n",
       "      <td>1</td>\n",
       "      <td>0</td>\n",
       "      <td>0</td>\n",
       "      <td>0</td>\n",
       "      <td>0</td>\n",
       "      <td>0</td>\n",
       "      <td>0</td>\n",
       "      <td>0</td>\n",
       "      <td>0</td>\n",
       "      <td>tantangan dihadapi pengungsi kehilangan pekerj...</td>\n",
       "    </tr>\n",
       "    <tr>\n",
       "      <th>239</th>\n",
       "      <td>TRA240</td>\n",
       "      <td>Kedaan ini adalah pengecualian dan kehidupan o...</td>\n",
       "      <td>0</td>\n",
       "      <td>kedaan pengecualian kehidupan orang orang trav...</td>\n",
       "      <td>11</td>\n",
       "      <td>7</td>\n",
       "      <td>6.909091</td>\n",
       "      <td>7.857143</td>\n",
       "      <td>0</td>\n",
       "      <td>0</td>\n",
       "      <td>0</td>\n",
       "      <td>0</td>\n",
       "      <td>0</td>\n",
       "      <td>0</td>\n",
       "      <td>0</td>\n",
       "      <td>0</td>\n",
       "      <td>0</td>\n",
       "      <td>0</td>\n",
       "      <td>kedaan pengecualian kehidupan orang orang trav...</td>\n",
       "    </tr>\n",
       "    <tr>\n",
       "      <th>254</th>\n",
       "      <td>TRA255</td>\n",
       "      <td>Akan bertemu dengan orang-orang baru dan menda...</td>\n",
       "      <td>1</td>\n",
       "      <td>bertemu orang orang pengalaman pengalaman bebeda</td>\n",
       "      <td>12</td>\n",
       "      <td>6</td>\n",
       "      <td>7.583333</td>\n",
       "      <td>7.166667</td>\n",
       "      <td>0</td>\n",
       "      <td>0</td>\n",
       "      <td>0</td>\n",
       "      <td>0</td>\n",
       "      <td>0</td>\n",
       "      <td>0</td>\n",
       "      <td>0</td>\n",
       "      <td>0</td>\n",
       "      <td>0</td>\n",
       "      <td>0</td>\n",
       "      <td>bertemu orang orang pengalaman pengalaman bebe...</td>\n",
       "    </tr>\n",
       "    <tr>\n",
       "      <th>102</th>\n",
       "      <td>TRA103</td>\n",
       "      <td>untuk pindah ke daerah yang aman</td>\n",
       "      <td>1</td>\n",
       "      <td>pindah daerah aman</td>\n",
       "      <td>6</td>\n",
       "      <td>3</td>\n",
       "      <td>4.500000</td>\n",
       "      <td>5.333333</td>\n",
       "      <td>0</td>\n",
       "      <td>0</td>\n",
       "      <td>0</td>\n",
       "      <td>0</td>\n",
       "      <td>0</td>\n",
       "      <td>0</td>\n",
       "      <td>1</td>\n",
       "      <td>0</td>\n",
       "      <td>0</td>\n",
       "      <td>0</td>\n",
       "      <td>pindah daerah aman 0 0 0 0 0 0 0</td>\n",
       "    </tr>\n",
       "  </tbody>\n",
       "</table>\n",
       "</div>"
      ],
      "text/plain": [
       "     RES_ID                                           RESPONSE  LABEL  \\\n",
       "181  TRA182        kehilangan lingkungan kita akibat bencana .      0   \n",
       "139  TRA140  yang di hadapinya ketika di pindahkan di tempa...      1   \n",
       "171  TRA172                    Perlu menyesuaikan diri kembali      1   \n",
       "54    TRA55            akan kehilangan komunitas dan negaranya      1   \n",
       "77    TRA78  Mereka akan rugi karena mereka akan meninggalk...      0   \n",
       "249  TRA250                                        beradaptasi      1   \n",
       "20    TRA21  satu tantangan yang akan dihadapi pengungsi ad...      1   \n",
       "239  TRA240  Kedaan ini adalah pengecualian dan kehidupan o...      0   \n",
       "254  TRA255  Akan bertemu dengan orang-orang baru dan menda...      1   \n",
       "102  TRA103                   untuk pindah ke daerah yang aman      1   \n",
       "\n",
       "                                          RESPONSE_CLN  count_word  \\\n",
       "181               kehilangan lingkungan akibat bencana           6   \n",
       "139             hadapinya pindahkan sulit menyesuaikan          17   \n",
       "171                                       menyesuaikan           4   \n",
       "54                      kehilangan komunitas negaranya           5   \n",
       "77      rugi meninggalkan lahan pertanian tumbuh subur          14   \n",
       "249                                        beradaptasi           1   \n",
       "20   tantangan dihadapi pengungsi kehilangan pekerj...          25   \n",
       "239  kedaan pengecualian kehidupan orang orang trav...          11   \n",
       "254   bertemu orang orang pengalaman pengalaman bebeda          12   \n",
       "102                                 pindah daerah aman           6   \n",
       "\n",
       "     count_word_cln  avg_word_length  avg_word_length_cln  is_berpindah  \\\n",
       "181               4         6.333333             8.250000             0   \n",
       "139               4         5.117647             8.750000             0   \n",
       "171               1         7.000000            12.000000             0   \n",
       "54                3         7.000000             9.333333             0   \n",
       "77                6         5.928571             6.833333             0   \n",
       "249               1        11.000000            11.000000             0   \n",
       "20               12         6.360000             8.166667             0   \n",
       "239               7         6.909091             7.857143             0   \n",
       "254               6         7.583333             7.166667             0   \n",
       "102               3         4.500000             5.333333             0   \n",
       "\n",
       "     is_tantangan  is_komunikasi  is_ekonomi  is_sosial  is_adaptasi  \\\n",
       "181             0              0           0          0            0   \n",
       "139             0              0           0          0            0   \n",
       "171             0              0           0          0            0   \n",
       "54              0              0           0          0            0   \n",
       "77              0              0           0          0            0   \n",
       "249             0              0           0          0            1   \n",
       "20              1              0           0          0            0   \n",
       "239             0              0           0          0            0   \n",
       "254             0              0           0          0            0   \n",
       "102             0              0           0          0            0   \n",
       "\n",
       "     is_pindah  is_suasana  is_baru  is_sulit  \\\n",
       "181          0           0        0         0   \n",
       "139          1           0        0         1   \n",
       "171          0           0        0         0   \n",
       "54           0           0        0         0   \n",
       "77           0           0        0         0   \n",
       "249          0           0        0         0   \n",
       "20           0           0        0         0   \n",
       "239          0           0        0         0   \n",
       "254          0           0        0         0   \n",
       "102          1           0        0         0   \n",
       "\n",
       "                                          RESPOND_USED  \n",
       "181   kehilangan lingkungan akibat bencana 0 0 0 0 0 0  \n",
       "139  hadapinya pindahkan sulit menyesuaikan 0 0 0 0...  \n",
       "171                     menyesuaikan 0 0 0 0 0 0 0 0 0  \n",
       "54        kehilangan komunitas negaranya 0 0 0 0 0 0 0  \n",
       "77   rugi meninggalkan lahan pertanian tumbuh subur...  \n",
       "249                      beradaptasi 0 0 0 0 0 0 0 0 0  \n",
       "20   tantangan dihadapi pengungsi kehilangan pekerj...  \n",
       "239  kedaan pengecualian kehidupan orang orang trav...  \n",
       "254  bertemu orang orang pengalaman pengalaman bebe...  \n",
       "102                   pindah daerah aman 0 0 0 0 0 0 0  "
      ]
     },
     "execution_count": 19,
     "metadata": {},
     "output_type": "execute_result"
    }
   ],
   "source": [
    "data_raw.sample(10)"
   ]
  },
  {
   "cell_type": "code",
   "execution_count": 20,
   "metadata": {},
   "outputs": [],
   "source": [
    "col1=['count_word','count_word_cln','avg_word_length','avg_word_length_cln','is_berpindah',\n",
    "      'is_tantangan','is_komunikasi','is_ekonomi','is_sosial','is_adaptasi','is_pindah','is_suasana','is_baru','is_sulit']\n",
    "col2=['RESPOND_USED']"
   ]
  },
  {
   "cell_type": "code",
   "execution_count": null,
   "metadata": {},
   "outputs": [],
   "source": []
  },
  {
   "cell_type": "markdown",
   "metadata": {},
   "source": [
    "## Data Preparation"
   ]
  },
  {
   "cell_type": "code",
   "execution_count": 21,
   "metadata": {},
   "outputs": [
    {
     "data": {
      "text/plain": [
       "(268, 19)"
      ]
     },
     "execution_count": 21,
     "metadata": {},
     "output_type": "execute_result"
    }
   ],
   "source": [
    "data_raw.shape"
   ]
  },
  {
   "cell_type": "code",
   "execution_count": 22,
   "metadata": {},
   "outputs": [],
   "source": [
    "## Split Data\n",
    "# data_raw_tr=data_raw.sample(210,random_state=234)\n",
    "data_raw_tr=data_raw.sample(200,random_state=100)\n",
    "data_raw_te=data_raw[~(data_raw.RES_ID.isin(data_raw_tr.RES_ID.unique()))]"
   ]
  },
  {
   "cell_type": "code",
   "execution_count": 23,
   "metadata": {},
   "outputs": [
    {
     "name": "stderr",
     "output_type": "stream",
     "text": [
      "/Users/alamhanz/anaconda/envs/word_s/lib/python3.7/site-packages/ipykernel/__main__.py:1: FutureWarning: Method .as_matrix will be removed in a future version. Use .values instead.\n",
      "  if __name__ == '__main__':\n",
      "/Users/alamhanz/anaconda/envs/word_s/lib/python3.7/site-packages/ipykernel/__main__.py:2: FutureWarning: Method .as_matrix will be removed in a future version. Use .values instead.\n",
      "  from ipykernel import kernelapp as app\n",
      "/Users/alamhanz/anaconda/envs/word_s/lib/python3.7/site-packages/ipykernel/__main__.py:4: FutureWarning: Method .as_matrix will be removed in a future version. Use .values instead.\n",
      "/Users/alamhanz/anaconda/envs/word_s/lib/python3.7/site-packages/ipykernel/__main__.py:5: FutureWarning: Method .as_matrix will be removed in a future version. Use .values instead.\n",
      "/Users/alamhanz/anaconda/envs/word_s/lib/python3.7/site-packages/ipykernel/__main__.py:10: FutureWarning: Method .as_matrix will be removed in a future version. Use .values instead.\n",
      "/Users/alamhanz/anaconda/envs/word_s/lib/python3.7/site-packages/ipykernel/__main__.py:11: FutureWarning: Method .as_matrix will be removed in a future version. Use .values instead.\n",
      "/Users/alamhanz/anaconda/envs/word_s/lib/python3.7/site-packages/sklearn/preprocessing/_encoders.py:415: FutureWarning: The handling of integer data will change in version 0.22. Currently, the categories are determined based on the range [0, max(values)], while in the future they will be determined based on the unique values.\n",
      "If you want the future behaviour and silence this warning, you can specify \"categories='auto'\".\n",
      "In case you used a LabelEncoder before this OneHotEncoder to convert the categories to integers, then you can now use the OneHotEncoder directly.\n",
      "  warnings.warn(msg, FutureWarning)\n"
     ]
    }
   ],
   "source": [
    "X1_tr=data_raw_tr[col1].as_matrix()\n",
    "X2_tr=np.array([list_word_embbed(i[0].split(' ')) for i in data_raw_tr[col2].as_matrix()])\n",
    "\n",
    "X1_te=data_raw_te[col1].as_matrix()\n",
    "X2_te=np.array([list_word_embbed(i[0].split(' ')) for i in data_raw_te[col2].as_matrix()])\n",
    "\n",
    "X_tr=[(Variable(torch.from_numpy(z1).type('torch.DoubleTensor')),Variable(torch.from_numpy(z2).type('torch.DoubleTensor'))) for z1,z2 in zip(X1_tr,X2_tr)]\n",
    "X_te=[(Variable(torch.from_numpy(z1).type('torch.DoubleTensor')),Variable(torch.from_numpy(z2).type('torch.DoubleTensor'))) for z1,z2 in zip(X1_te,X2_te)]\n",
    "\n",
    "Y_tr=data_raw_tr['LABEL'].as_matrix()\n",
    "Y_te=data_raw_te['LABEL'].as_matrix()\n",
    "\n",
    "Y_tr=Y_tr.reshape(len(Y_tr),1)\n",
    "Y_te=Y_te.reshape(len(Y_te),1)\n",
    "\n",
    "encoder = OneHotEncoder()\n",
    "encoder.fit(Y_tr)\n",
    "\n",
    "Y_tr = encoder.transform(Y_tr)\n",
    "Y_te = encoder.transform(Y_te)"
   ]
  },
  {
   "cell_type": "code",
   "execution_count": 27,
   "metadata": {},
   "outputs": [
    {
     "data": {
      "text/plain": [
       "(torch.Size([14]), torch.Size([10, 80]))"
      ]
     },
     "execution_count": 27,
     "metadata": {},
     "output_type": "execute_result"
    }
   ],
   "source": [
    "X_tr[0][0].size(),X_tr[0][1].size()"
   ]
  },
  {
   "cell_type": "code",
   "execution_count": null,
   "metadata": {},
   "outputs": [],
   "source": []
  },
  {
   "cell_type": "markdown",
   "metadata": {},
   "source": [
    "## Prepare Model"
   ]
  },
  {
   "cell_type": "code",
   "execution_count": 28,
   "metadata": {},
   "outputs": [],
   "source": [
    "## LSTM Example\n",
    "class ModelA(torch.nn.Module):\n",
    "    def __init__(self, input_size1, input_size2, output_size):        \n",
    "        super(ModelA, self).__init__()\n",
    "        self.input_size1=input_size1\n",
    "        self.input_size2=input_size2\n",
    "        \n",
    "        self.softmax = torch.nn.Softmax()\n",
    "        \n",
    "        self.features1 = torch.nn.Sequential(\n",
    "            torch.nn.LSTM(self.input_size1, 120)\n",
    "        )\n",
    "        \n",
    "        self.features2 = torch.nn.Sequential(\n",
    "            torch.nn.Linear(self.input_size2, 21,bias=False),\n",
    "            torch.nn.ReLU(inplace=True),\n",
    "            torch.nn.Linear(21, 3,bias=False)\n",
    "        )\n",
    "        \n",
    "        self.features3 = torch.nn.Sequential(\n",
    "            torch.nn.Linear(23, 70,bias=False),\n",
    "            torch.nn.ReLU(inplace=True),\n",
    "            torch.nn.Linear(70, 70,bias=False),\n",
    "            torch.nn.ReLU(inplace=True),\n",
    "            torch.nn.Linear(70, 30,bias=False),\n",
    "            torch.nn.ReLU(inplace=True),\n",
    "            torch.nn.Linear(30, 3,bias=False),\n",
    "            torch.nn.ReLU(inplace=True),\n",
    "            torch.nn.Linear(3, 2,bias=False),\n",
    "            torch.nn.Softmax())\n",
    "        \n",
    "        \n",
    "        self.features4 = torch.nn.Sequential(\n",
    "            torch.nn.Linear(120, 40,bias=False),\n",
    "            torch.nn.ReLU(inplace=True),\n",
    "            torch.nn.Linear(40, 40,bias=False),\n",
    "            torch.nn.ReLU(inplace=True),\n",
    "            torch.nn.Linear(40, 20,bias=False)\n",
    "        )\n",
    "        \n",
    "    def forward(self, input1,input2):\n",
    "        torch.manual_seed(400)\n",
    "        # input1=input[1]\n",
    "        # input2=input[0]\n",
    "\n",
    "        input1=input1.view(1,10, -1)\n",
    "        input2=input2.view(1,-1)\n",
    "\n",
    "        x1,h = self.features1(input1)\n",
    "        x1_1=x1[:,-1]\n",
    "        x1 = self.features4(x1_1)\n",
    "        x2 = self.features2(input2)\n",
    "        \n",
    "        x1 = x1.view(x1.size(0), -1)\n",
    "        x2 = x2.view(x2.size(0), -1)\n",
    "        \n",
    "        out=torch.cat((x1, x2), 1)\n",
    "        y_pred=self.features3(out)\n",
    "        \n",
    "        return y_pred,'-'"
   ]
  },
  {
   "cell_type": "code",
   "execution_count": 30,
   "metadata": {},
   "outputs": [],
   "source": [
    "EMBEDDING_LEN=wv.vector_size\n",
    "\n",
    "model1_A = ModelA(input_size1=EMBEDDING_LEN,\n",
    "                  input_size2=14, \n",
    "                  output_size=1)\n",
    "model1_A=model1_A.double()"
   ]
  },
  {
   "cell_type": "code",
   "execution_count": 32,
   "metadata": {},
   "outputs": [],
   "source": [
    "learningRate=0.00009\n",
    "# criterion = torch.nn.CrossEntropyLoss()\n",
    "criterion = torch.nn.BCELoss()\n",
    "# criterion = torch.nn.MSELoss()\n",
    "optimizer = torch.optim.Adam(model1_A.parameters(),lr=learningRate)"
   ]
  },
  {
   "cell_type": "code",
   "execution_count": 33,
   "metadata": {},
   "outputs": [],
   "source": [
    "# model1_A(X_tr[1][1],X_tr[1][0])"
   ]
  },
  {
   "cell_type": "code",
   "execution_count": null,
   "metadata": {},
   "outputs": [],
   "source": []
  },
  {
   "cell_type": "markdown",
   "metadata": {},
   "source": [
    "## Train the model"
   ]
  },
  {
   "cell_type": "code",
   "execution_count": 34,
   "metadata": {},
   "outputs": [],
   "source": [
    "# X_tr0, X_tr1, Y_tr0, Y_tr1 = train_test_split(X_tr, Y_tr, test_size=0.15, random_state=182)"
   ]
  },
  {
   "cell_type": "code",
   "execution_count": 35,
   "metadata": {},
   "outputs": [
    {
     "name": "stderr",
     "output_type": "stream",
     "text": [
      "/Users/alamhanz/anaconda/envs/word_s/lib/python3.7/site-packages/torch/nn/modules/container.py:92: UserWarning: Implicit dimension choice for softmax has been deprecated. Change the call to include dim=X as an argument.\n",
      "  input = module(input)\n"
     ]
    },
    {
     "name": "stdout",
     "output_type": "stream",
     "text": [
      "[[0.49562619 0.50437381]] [[0. 1.]]\n",
      "running loss train 0.6926285546204491 0.689120620938857\n",
      "[[0.19779396 0.80220604]] [[0. 1.]]\n",
      "running loss train 0.5484050787490699 0.5055849672120896\n",
      "[[0.08502311 0.91497689]] [[0. 1.]]\n",
      "running loss train 0.4836343368827644 0.424951156419566\n",
      "[[0.01634714 0.98365286]] [[0. 1.]]\n",
      "running loss train 0.42617778165440745 0.4173619124061327\n",
      "[[0.00373106 0.99626894]] [[0. 1.]]\n",
      "running loss train 0.397722319755307 0.43029809392337437\n",
      "[[8.47575344e-04 9.99152425e-01]] [[0. 1.]]\n",
      "running loss train 0.3793303867398675 0.43826182373428524\n",
      "[[2.51928043e-04 9.99748072e-01]] [[0. 1.]]\n",
      "running loss train 0.36663281632073164 0.4488915250645733\n",
      "[[8.03552143e-05 9.99919645e-01]] [[0. 1.]]\n",
      "running loss train 0.3559318807672399 0.4532131138964775\n",
      "[[2.55214059e-05 9.99974479e-01]] [[0. 1.]]\n",
      "running loss train 0.3452835876073429 0.4648559019710135\n",
      "[[9.82331665e-06 9.99990177e-01]] [[0. 1.]]\n",
      "running loss train 0.336204156321846 0.4708401738984921\n",
      "[[4.19335115e-06 9.99995807e-01]] [[0. 1.]]\n",
      "running loss train 0.32756143420652684 0.4771024045036689\n",
      "[[1.90303283e-06 9.99998097e-01]] [[0. 1.]]\n",
      "running loss train 0.32014086772499045 0.4946953912466369\n",
      "[[1.01905736e-06 9.99998981e-01]] [[0. 1.]]\n",
      "running loss train 0.3128483806760773 0.5066480985468941\n",
      "[[4.56482082e-07 9.99999544e-01]] [[0. 1.]]\n",
      "running loss train 0.30584563375677315 0.46367850963055546\n",
      "[[1.90805486e-07 9.99999809e-01]] [[0. 1.]]\n",
      "running loss train 0.29996584554078726 0.4612993734868512\n",
      "[[9.18726550e-08 9.99999908e-01]] [[0. 1.]]\n",
      "running loss train 0.29376359247080086 0.462541202003854\n",
      "[[3.79165280e-08 9.99999962e-01]] [[0. 1.]]\n",
      "running loss train 0.2900277323802972 0.4648252925928\n",
      "[[1.71893969e-08 9.99999983e-01]] [[0. 1.]]\n",
      "running loss train 0.2850856202703267 0.46535425414712744\n",
      "[[7.42005185e-09 9.99999993e-01]] [[0. 1.]]\n",
      "running loss train 0.2812621147267856 0.46206033450833894\n",
      "[[2.54927434e-09 9.99999997e-01]] [[0. 1.]]\n",
      "running loss train 0.27769497409370003 0.47927875391755015\n",
      "[[9.44151191e-10 9.99999999e-01]] [[0. 1.]]\n",
      "running loss train 0.27293517120986754 0.4712423980696092\n",
      "[[3.49184908e-10 1.00000000e+00]] [[0. 1.]]\n",
      "running loss train 0.27018661964608975 0.4850126850787806\n",
      "[[1.1644271e-10 1.0000000e+00]] [[0. 1.]]\n",
      "running loss train 0.26761243726555667 0.48503550548904883\n",
      "[[4.18337232e-11 1.00000000e+00]] [[0. 1.]]\n",
      "running loss train 0.26484846524347466 0.4987897428452505\n",
      "[[1.58610225e-11 1.00000000e+00]] [[0. 1.]]\n",
      "running loss train 0.2620913672678944 0.5074711027830432\n"
     ]
    }
   ],
   "source": [
    "epochs=500\n",
    "for epoch in range(epochs):\n",
    "    model1_A.train()\n",
    "    # Converting inputs and labels to Variable\n",
    "    running_loss_train = 0\n",
    "    batch_idx=1\n",
    "    for (data, target) in zip(X_tr,Y_tr):\n",
    "        inputs = data\n",
    "        labels = Variable(torch.from_numpy(target.toarray()))\n",
    "        # labels = Variable(torch.from_numpy(target.toarray()).type('torch.DoubleTensor'))\n",
    "        optimizer.zero_grad()\n",
    "        outputs, hidden = model1_A(inputs[1],inputs[0])\n",
    "        # get loss for the predicted output\n",
    "        loss = criterion(outputs, labels)\n",
    "        loss.backward()\n",
    "        # update parameters\n",
    "        optimizer.step()\n",
    "\n",
    "        running_loss_train += (loss.item() - running_loss_train) / batch_idx\n",
    "        batch_idx+=1\n",
    "    \n",
    "    model1_A.eval()\n",
    "    batch_idx=1\n",
    "    with torch.no_grad():\n",
    "        running_loss_test = 0\n",
    "        for (data, target) in zip(X_te,Y_te):\n",
    "            inputs = data\n",
    "            labels = Variable(torch.from_numpy(target.toarray()))\n",
    "            outputs, hidden = model1_A(inputs[1],inputs[0])\n",
    "            loss = criterion(outputs, labels)\n",
    "            running_loss_test += (loss.item() - running_loss_test) / batch_idx\n",
    "            batch_idx+=1\n",
    "    \n",
    "    if epoch % 20 == 0:\n",
    "        print(outputs.data.numpy(),labels.data.numpy())\n",
    "        print(\"running loss train\", running_loss_train,running_loss_test)"
   ]
  },
  {
   "cell_type": "code",
   "execution_count": 36,
   "metadata": {},
   "outputs": [
    {
     "data": {
      "text/plain": [
       "ModelA(\n",
       "  (softmax): Softmax(dim=None)\n",
       "  (features1): Sequential(\n",
       "    (0): LSTM(80, 120)\n",
       "  )\n",
       "  (features2): Sequential(\n",
       "    (0): Linear(in_features=14, out_features=21, bias=False)\n",
       "    (1): ReLU(inplace=True)\n",
       "    (2): Linear(in_features=21, out_features=3, bias=False)\n",
       "  )\n",
       "  (features3): Sequential(\n",
       "    (0): Linear(in_features=23, out_features=70, bias=False)\n",
       "    (1): ReLU(inplace=True)\n",
       "    (2): Linear(in_features=70, out_features=70, bias=False)\n",
       "    (3): ReLU(inplace=True)\n",
       "    (4): Linear(in_features=70, out_features=30, bias=False)\n",
       "    (5): ReLU(inplace=True)\n",
       "    (6): Linear(in_features=30, out_features=3, bias=False)\n",
       "    (7): ReLU(inplace=True)\n",
       "    (8): Linear(in_features=3, out_features=2, bias=False)\n",
       "    (9): Softmax(dim=None)\n",
       "  )\n",
       "  (features4): Sequential(\n",
       "    (0): Linear(in_features=120, out_features=40, bias=False)\n",
       "    (1): ReLU(inplace=True)\n",
       "    (2): Linear(in_features=40, out_features=40, bias=False)\n",
       "    (3): ReLU(inplace=True)\n",
       "    (4): Linear(in_features=40, out_features=20, bias=False)\n",
       "  )\n",
       ")"
      ]
     },
     "execution_count": 36,
     "metadata": {},
     "output_type": "execute_result"
    }
   ],
   "source": [
    "model1_A.eval()"
   ]
  },
  {
   "cell_type": "code",
   "execution_count": null,
   "metadata": {},
   "outputs": [],
   "source": []
  },
  {
   "cell_type": "markdown",
   "metadata": {},
   "source": [
    "## Evaluation"
   ]
  },
  {
   "cell_type": "code",
   "execution_count": 37,
   "metadata": {},
   "outputs": [],
   "source": [
    "def evaluation_model(model,X,Y):\n",
    "    yt=[]\n",
    "    yp=[]\n",
    "    for (data,y) in zip(X,Y.toarray()):\n",
    "        outputs, hidden = model(data[1],data[0])\n",
    "        yp.append(outputs.data.numpy()[-1][-1])\n",
    "        yt.append(y[-1])\n",
    "\n",
    "    yp=(np.array(yp)>0.5).astype(float).tolist()\n",
    "\n",
    "    tn, fp, fn, tp = confusion_matrix(yt,yp).ravel()\n",
    "    acc=(tn+tp)/(tn+fp+fn+tp)\n",
    "    prec=tp/(tp+fp)\n",
    "    recc=tp/(tp+fn)\n",
    "\n",
    "    print('Accuracy :',acc )\n",
    "    print('Precision :',prec )\n",
    "    print('Recall :',recc )"
   ]
  },
  {
   "cell_type": "code",
   "execution_count": 38,
   "metadata": {},
   "outputs": [
    {
     "name": "stdout",
     "output_type": "stream",
     "text": [
      "Accuracy : 0.865\n",
      "Precision : 0.9302325581395349\n",
      "Recall : 0.8695652173913043\n"
     ]
    }
   ],
   "source": [
    "evaluation_model(model1_A,X_tr,Y_tr)"
   ]
  },
  {
   "cell_type": "code",
   "execution_count": 39,
   "metadata": {},
   "outputs": [
    {
     "ename": "NameError",
     "evalue": "name 'X_tr1' is not defined",
     "output_type": "error",
     "traceback": [
      "\u001b[0;31m---------------------------------------------------------------------------\u001b[0m",
      "\u001b[0;31mNameError\u001b[0m                                 Traceback (most recent call last)",
      "\u001b[0;32m<ipython-input-39-2169c0c05e0c>\u001b[0m in \u001b[0;36m<module>\u001b[0;34m\u001b[0m\n\u001b[0;32m----> 1\u001b[0;31m \u001b[0mevaluation_model\u001b[0m\u001b[0;34m(\u001b[0m\u001b[0mmodel1_A\u001b[0m\u001b[0;34m,\u001b[0m\u001b[0mX_tr1\u001b[0m\u001b[0;34m,\u001b[0m\u001b[0mY_tr1\u001b[0m\u001b[0;34m)\u001b[0m\u001b[0;34m\u001b[0m\u001b[0;34m\u001b[0m\u001b[0m\n\u001b[0m",
      "\u001b[0;31mNameError\u001b[0m: name 'X_tr1' is not defined"
     ]
    }
   ],
   "source": [
    "evaluation_model(model1_A,X_tr1,Y_tr1)"
   ]
  },
  {
   "cell_type": "code",
   "execution_count": 40,
   "metadata": {},
   "outputs": [
    {
     "name": "stdout",
     "output_type": "stream",
     "text": [
      "Accuracy : 0.8088235294117647\n",
      "Precision : 0.8846153846153846\n",
      "Recall : 0.8679245283018868\n"
     ]
    }
   ],
   "source": [
    "evaluation_model(model1_A,X_te,Y_te)"
   ]
  },
  {
   "cell_type": "code",
   "execution_count": 41,
   "metadata": {},
   "outputs": [
    {
     "name": "stderr",
     "output_type": "stream",
     "text": [
      "/Users/alamhanz/anaconda/envs/word_s/lib/python3.7/site-packages/torch/serialization.py:256: UserWarning: Couldn't retrieve source code for container of type ModelA. It won't be checked for correctness upon loading.\n",
      "  \"type \" + obj.__name__ + \". It won't be checked \"\n"
     ]
    }
   ],
   "source": [
    "torch.save(model1_A, MODEL_PATH+\"20190903_model_A_1\")"
   ]
  },
  {
   "cell_type": "code",
   "execution_count": null,
   "metadata": {},
   "outputs": [],
   "source": []
  },
  {
   "cell_type": "markdown",
   "metadata": {},
   "source": [
    "## Conclusions"
   ]
  },
  {
   "cell_type": "code",
   "execution_count": null,
   "metadata": {},
   "outputs": [],
   "source": []
  },
  {
   "cell_type": "code",
   "execution_count": null,
   "metadata": {},
   "outputs": [],
   "source": []
  }
 ],
 "metadata": {
  "kernelspec": {
   "display_name": "Python [conda env:word_s]",
   "language": "python",
   "name": "conda-env-word_s-py"
  },
  "language_info": {
   "codemirror_mode": {
    "name": "ipython",
    "version": 3
   },
   "file_extension": ".py",
   "mimetype": "text/x-python",
   "name": "python",
   "nbconvert_exporter": "python",
   "pygments_lexer": "ipython3",
   "version": "3.6.7"
  }
 },
 "nbformat": 4,
 "nbformat_minor": 2
}
