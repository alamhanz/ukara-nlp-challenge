{
 "cells": [
  {
   "cell_type": "markdown",
   "metadata": {},
   "source": [
    "# Second Answer\n",
    "\n",
    "Generate Answer with model 1"
   ]
  },
  {
   "cell_type": "code",
   "execution_count": 1,
   "metadata": {},
   "outputs": [],
   "source": [
    "import pandas as pd\n",
    "import matplotlib.pyplot as plt\n",
    "# import seaborn as sns\n",
    "import json\n",
    "\n",
    "import gensim\n",
    "from gensim.models import KeyedVectors\n",
    "import numpy as np\n",
    "\n",
    "import torch\n",
    "from torch.autograd import Variable\n",
    "import random\n",
    "import matplotlib.pyplot as plt\n",
    "import torch.utils.data as utils_data\n",
    "from sklearn.preprocessing import LabelEncoder\n",
    "from sklearn.preprocessing import OneHotEncoder\n",
    "from sklearn.metrics import confusion_matrix\n",
    "from sklearn.model_selection import train_test_split"
   ]
  },
  {
   "cell_type": "code",
   "execution_count": 2,
   "metadata": {},
   "outputs": [],
   "source": [
    "RAW_PATH=\"../data/raw/\"\n",
    "INTERIM_PATH=\"../data/interim/\"\n",
    "PROCESSED_PATH=\"../data/processed/\"\n",
    "ANSWER_PATH=\"../data/answer/\"\n",
    "MODEL_PATH=\"../models/\"\n",
    "SRC_PATH='../src/'"
   ]
  },
  {
   "cell_type": "code",
   "execution_count": 3,
   "metadata": {},
   "outputs": [],
   "source": [
    "def word_embbed(w,wv):\n",
    "    vec=([0.0]*wv.vector_size)\n",
    "    try:\n",
    "        vec=wv[w].tolist()\n",
    "    except:\n",
    "        pass\n",
    "    return np.array(vec)\n",
    "\n",
    "def list_word_embbed(list_words,wv):\n",
    "    embbed=[word_embbed(w,wv) for w in list_words]\n",
    "    return np.asarray(embbed)\n",
    "\n",
    "def clean_word(s):\n",
    "    try:\n",
    "        s0=re.sub(r'[^\\w\\s]',' ',s)\n",
    "        s0=re.sub(\"\\d+\",' ',s0)\n",
    "        s0=word_tokenize(s0.lower())\n",
    "        s1=[w for w in s0 if w not in stoplist]\n",
    "        s1=' '.join(s1)\n",
    "    except:\n",
    "        s1=''\n",
    "    return s1\n",
    "\n",
    "def avg_word_len(s):\n",
    "    len_list=np.array([len(k) for k in s.split(' ')])\n",
    "    return len_list.mean()\n",
    "\n",
    "def padding_words(word_list,n):\n",
    "    word_out=['0']*n\n",
    "    word_list0=word_list.copy()\n",
    "    if len(word_list)>n:\n",
    "        word_list0=word_list[:n]\n",
    "    word_out[:len(word_list0)] = word_list0\n",
    "    return word_out\n",
    "\n",
    "def clean_word2(s):\n",
    "    try:\n",
    "        s0=re.sub(r'[^\\w\\s]',' ',s)\n",
    "        s0=re.sub(\"\\d+\",' ',s0)\n",
    "        s0=word_tokenize(s0.lower())\n",
    "        s1=[w for w in s0 if len(w)>3]\n",
    "        s1=' '.join(s1)\n",
    "    except:\n",
    "        s1=''\n",
    "    return s1"
   ]
  },
  {
   "cell_type": "code",
   "execution_count": null,
   "metadata": {},
   "outputs": [],
   "source": []
  },
  {
   "cell_type": "markdown",
   "metadata": {},
   "source": [
    "## Get Data"
   ]
  },
  {
   "cell_type": "code",
   "execution_count": 4,
   "metadata": {},
   "outputs": [],
   "source": [
    "data_A=pd.read_csv(RAW_PATH+\"data_dev_A.csv\")\n",
    "data_B=pd.read_csv(RAW_PATH+\"data_dev_B.csv\")"
   ]
  },
  {
   "cell_type": "code",
   "execution_count": 5,
   "metadata": {},
   "outputs": [
    {
     "data": {
      "text/html": [
       "<div>\n",
       "<style scoped>\n",
       "    .dataframe tbody tr th:only-of-type {\n",
       "        vertical-align: middle;\n",
       "    }\n",
       "\n",
       "    .dataframe tbody tr th {\n",
       "        vertical-align: top;\n",
       "    }\n",
       "\n",
       "    .dataframe thead th {\n",
       "        text-align: right;\n",
       "    }\n",
       "</style>\n",
       "<table border=\"1\" class=\"dataframe\">\n",
       "  <thead>\n",
       "    <tr style=\"text-align: right;\">\n",
       "      <th></th>\n",
       "      <th>RES_ID</th>\n",
       "      <th>RESPONSE</th>\n",
       "    </tr>\n",
       "  </thead>\n",
       "  <tbody>\n",
       "    <tr>\n",
       "      <th>0</th>\n",
       "      <td>DEVA1</td>\n",
       "      <td>karena di tempat tnggalnya tidak aman karena b...</td>\n",
       "    </tr>\n",
       "    <tr>\n",
       "      <th>1</th>\n",
       "      <td>DEVA2</td>\n",
       "      <td>banyak yang menolak, susah mencari lapangan pe...</td>\n",
       "    </tr>\n",
       "    <tr>\n",
       "      <th>2</th>\n",
       "      <td>DEVA3</td>\n",
       "      <td>ah berkomunikasi dengan wilyah yang mereka tem...</td>\n",
       "    </tr>\n",
       "    <tr>\n",
       "      <th>3</th>\n",
       "      <td>DEVA4</td>\n",
       "      <td>tantangan yang akan mereka hadapi, seperti mer...</td>\n",
       "    </tr>\n",
       "    <tr>\n",
       "      <th>4</th>\n",
       "      <td>DEVA5</td>\n",
       "      <td>Mereka akan tidak terbiasa dengan tempat baru</td>\n",
       "    </tr>\n",
       "  </tbody>\n",
       "</table>\n",
       "</div>"
      ],
      "text/plain": [
       "  RES_ID                                           RESPONSE\n",
       "0  DEVA1  karena di tempat tnggalnya tidak aman karena b...\n",
       "1  DEVA2  banyak yang menolak, susah mencari lapangan pe...\n",
       "2  DEVA3  ah berkomunikasi dengan wilyah yang mereka tem...\n",
       "3  DEVA4  tantangan yang akan mereka hadapi, seperti mer...\n",
       "4  DEVA5      Mereka akan tidak terbiasa dengan tempat baru"
      ]
     },
     "execution_count": 5,
     "metadata": {},
     "output_type": "execute_result"
    }
   ],
   "source": [
    "data_A.head()"
   ]
  },
  {
   "cell_type": "code",
   "execution_count": 6,
   "metadata": {},
   "outputs": [
    {
     "data": {
      "text/html": [
       "<div>\n",
       "<style scoped>\n",
       "    .dataframe tbody tr th:only-of-type {\n",
       "        vertical-align: middle;\n",
       "    }\n",
       "\n",
       "    .dataframe tbody tr th {\n",
       "        vertical-align: top;\n",
       "    }\n",
       "\n",
       "    .dataframe thead th {\n",
       "        text-align: right;\n",
       "    }\n",
       "</style>\n",
       "<table border=\"1\" class=\"dataframe\">\n",
       "  <thead>\n",
       "    <tr style=\"text-align: right;\">\n",
       "      <th></th>\n",
       "      <th>RES_ID</th>\n",
       "      <th>RESPONSE</th>\n",
       "    </tr>\n",
       "  </thead>\n",
       "  <tbody>\n",
       "    <tr>\n",
       "      <th>0</th>\n",
       "      <td>DEVB1</td>\n",
       "      <td>karena jika menyumbangkan pakaian itu pakaian ...</td>\n",
       "    </tr>\n",
       "    <tr>\n",
       "      <th>1</th>\n",
       "      <td>DEVB2</td>\n",
       "      <td>memastikan bahwa ppenerima akan senang dan yg ...</td>\n",
       "    </tr>\n",
       "    <tr>\n",
       "      <th>2</th>\n",
       "      <td>DEVB3</td>\n",
       "      <td>karena banyak orang yang mendukung hal tersebu...</td>\n",
       "    </tr>\n",
       "    <tr>\n",
       "      <th>3</th>\n",
       "      <td>DEVB4</td>\n",
       "      <td>karena banayak orang yang ada atau bekerja di ...</td>\n",
       "    </tr>\n",
       "    <tr>\n",
       "      <th>4</th>\n",
       "      <td>DEVB5</td>\n",
       "      <td>karna sebagian orang ada yang ingin beramal da...</td>\n",
       "    </tr>\n",
       "  </tbody>\n",
       "</table>\n",
       "</div>"
      ],
      "text/plain": [
       "  RES_ID                                           RESPONSE\n",
       "0  DEVB1  karena jika menyumbangkan pakaian itu pakaian ...\n",
       "1  DEVB2  memastikan bahwa ppenerima akan senang dan yg ...\n",
       "2  DEVB3  karena banyak orang yang mendukung hal tersebu...\n",
       "3  DEVB4  karena banayak orang yang ada atau bekerja di ...\n",
       "4  DEVB5  karna sebagian orang ada yang ingin beramal da..."
      ]
     },
     "execution_count": 6,
     "metadata": {},
     "output_type": "execute_result"
    }
   ],
   "source": [
    "data_B.head()"
   ]
  },
  {
   "cell_type": "code",
   "execution_count": null,
   "metadata": {},
   "outputs": [],
   "source": []
  },
  {
   "cell_type": "markdown",
   "metadata": {},
   "source": [
    "## Feature Engineering model 1"
   ]
  },
  {
   "cell_type": "code",
   "execution_count": null,
   "metadata": {},
   "outputs": [],
   "source": []
  },
  {
   "cell_type": "markdown",
   "metadata": {},
   "source": [
    "#### Data A"
   ]
  },
  {
   "cell_type": "code",
   "execution_count": 7,
   "metadata": {},
   "outputs": [
    {
     "name": "stderr",
     "output_type": "stream",
     "text": [
      "/Users/alamhanz/anaconda/envs/word_s/lib/python3.7/site-packages/smart_open/smart_open_lib.py:398: UserWarning: This function is deprecated, use smart_open.open instead. See the migration notes for details: https://github.com/RaRe-Technologies/smart_open/blob/master/README.rst#migrating-to-the-new-open-function\n",
      "  'See the migration notes for details: %s' % _MIGRATION_NOTES_URL\n"
     ]
    }
   ],
   "source": [
    "wvA = KeyedVectors.load(MODEL_PATH+\"embedding_A.wv\", mmap='r')\n",
    "stoplistA=open(SRC_PATH+'stopwords_id.txt').read().split('\\n')+['nya','yg','yng']\n",
    "stimulus_wordA=['berpindah','tantangan','komunikasi','ekonomi','sosial','adaptasi','pindah','suasana','baru','sulit']"
   ]
  },
  {
   "cell_type": "code",
   "execution_count": 8,
   "metadata": {},
   "outputs": [
    {
     "name": "stderr",
     "output_type": "stream",
     "text": [
      "/Users/alamhanz/anaconda/envs/word_s/lib/python3.7/site-packages/ipykernel/__main__.py:17: FutureWarning: Method .as_matrix will be removed in a future version. Use .values instead.\n",
      "/Users/alamhanz/anaconda/envs/word_s/lib/python3.7/site-packages/ipykernel/__main__.py:18: FutureWarning: Method .as_matrix will be removed in a future version. Use .values instead.\n"
     ]
    }
   ],
   "source": [
    "data_A['RESPONSE_CLN']=data_A.RESPONSE.apply(clean_word)\n",
    "data_A['count_word']=data_A.RESPONSE.apply(lambda x : len(x.split(' ')))\n",
    "data_A['count_word_cln']=data_A.RESPONSE_CLN.apply(lambda x : len(x.split(' ')))\n",
    "data_A['avg_word_length']=data_A.RESPONSE.apply(avg_word_len)\n",
    "data_A['avg_word_length_cln']=data_A.RESPONSE_CLN.apply(avg_word_len)\n",
    "\n",
    "for w in stimulus_wordA:\n",
    "    data_A['is_'+w]=data_A.RESPONSE_CLN.apply(lambda x: int(w in x))\n",
    "    \n",
    "MAX_PADDING=10\n",
    "data_A['RESPOND_USED']=data_A.RESPONSE_CLN.apply(lambda x : ' '.join(padding_words(x.split(' '),MAX_PADDING)))\n",
    "\n",
    "col1=['count_word','count_word_cln','avg_word_length','avg_word_length_cln','is_berpindah',\n",
    "      'is_tantangan','is_komunikasi','is_ekonomi','is_sosial','is_adaptasi','is_pindah','is_suasana','is_baru','is_sulit']\n",
    "col2=['RESPOND_USED']\n",
    "\n",
    "X1_tr=data_A[col1].as_matrix()\n",
    "X2_tr=np.array([list_word_embbed(i[0].split(' '),wv=wvA) for i in data_A[col2].as_matrix()])\n",
    "XA=[(Variable(torch.from_numpy(z1).type('torch.DoubleTensor')),Variable(torch.from_numpy(z2).type('torch.DoubleTensor'))) for z1,z2 in zip(X1_tr,X2_tr)]\n"
   ]
  },
  {
   "cell_type": "code",
   "execution_count": null,
   "metadata": {},
   "outputs": [],
   "source": []
  },
  {
   "cell_type": "code",
   "execution_count": 9,
   "metadata": {},
   "outputs": [],
   "source": [
    "ss1=['pakaian',\n",
    " 'beretika',\n",
    " 'menyumbang',\n",
    " 'kondisi',\n",
    " 'pabrik',\n",
    " 'produksi',\n",
    " 'kerja',\n",
    " 'orang',\n",
    " 'konsumen',\n",
    " 'pekerja']\n",
    "\n",
    "wvB = KeyedVectors.load(MODEL_PATH+\"embedding_B.wv\", mmap='r')\n",
    "stoplistB=open(SRC_PATH+'stopwords_id.txt').read().split('\\n')+['nya','yg','yng','karna','karana','karan']\n",
    "\n",
    "stimulus_wordB=list(set(['pakaian','menyumbang','produksi','sumbang','membutuhkan','upaya','layak','membantu','memilih','pahala']+ss1))"
   ]
  },
  {
   "cell_type": "code",
   "execution_count": 10,
   "metadata": {},
   "outputs": [
    {
     "name": "stderr",
     "output_type": "stream",
     "text": [
      "/Users/alamhanz/anaconda/envs/word_s/lib/python3.7/site-packages/ipykernel/__main__.py:47: FutureWarning: Method .as_matrix will be removed in a future version. Use .values instead.\n",
      "/Users/alamhanz/anaconda/envs/word_s/lib/python3.7/site-packages/ipykernel/__main__.py:48: FutureWarning: Method .as_matrix will be removed in a future version. Use .values instead.\n"
     ]
    }
   ],
   "source": [
    "data_B['RESPONSE_CLN']=data_B.RESPONSE.apply(clean_word)\n",
    "data_B['RESPONSE_CLN2']=data_B.RESPONSE.apply(clean_word2)\n",
    "data_B['count_word']=data_B.RESPONSE.apply(lambda x : len(x.split(' ')))\n",
    "data_B['count_word_cln']=data_B.RESPONSE_CLN.apply(lambda x : len(x.split(' ')))\n",
    "data_B['count_word_cln2']=data_B.RESPONSE_CLN2.apply(lambda x : len(x.split(' ')))\n",
    "data_B['avg_word_length']=data_B.RESPONSE.apply(avg_word_len)\n",
    "data_B['avg_word_length_cln']=data_B.RESPONSE_CLN.apply(avg_word_len)\n",
    "\n",
    "for w in stimulus_wordB:\n",
    "    data_B['is_'+w]=data_B.RESPONSE_CLN.apply(lambda x: int(w in x))\n",
    "\n",
    "# karena, karna, karana, karana, karan\n",
    "data_B['is_karena']=data_B.RESPONSE_CLN2.apply(lambda x:  len([w for w in str(x).lower().split() if w in ['karena','karana','karna','karan']]))\n",
    "data_B['count_stopwords']=data_B.RESPONSE.apply(lambda x:  len([w for w in str(x).lower().split() if w in stoplistB]))\n",
    "data_B['count_topwords']=data_B.RESPONSE.apply(lambda x:  len([w for w in str(x).lower().split() if w in stimulus_wordB]))\n",
    "\n",
    "MAX_PADDING=15\n",
    "data_B['RESPOND_USED']=data_B.RESPONSE_CLN2.apply(lambda x : ' '.join(padding_words(x.split(' '),MAX_PADDING)))\n",
    "\n",
    "col1=['count_word',\n",
    " 'count_word_cln',\n",
    " 'count_word_cln2',\n",
    " 'avg_word_length',\n",
    " 'avg_word_length_cln',\n",
    " 'is_sumbang',\n",
    " 'is_kerja',\n",
    " 'is_upaya',\n",
    " 'is_memilih',\n",
    " 'is_pabrik',\n",
    " 'is_membantu',\n",
    " 'is_orang',\n",
    " 'is_pekerja',\n",
    " 'is_produksi',\n",
    " 'is_menyumbang',\n",
    " 'is_beretika',\n",
    " 'is_layak',\n",
    " 'is_pakaian',\n",
    " 'is_konsumen',\n",
    " 'is_pahala',\n",
    " 'is_kondisi',\n",
    " 'is_membutuhkan',\n",
    " 'is_karena',\n",
    " 'count_stopwords',\n",
    " 'count_topwords']\n",
    "col2=['RESPOND_USED']\n",
    "\n",
    "X1_tr=data_B[col1].as_matrix()\n",
    "X2_tr=np.array([list_word_embbed(i[0].split(' '),wv=wvB) for i in data_B[col2].as_matrix()])\n",
    "XB=[(Variable(torch.from_numpy(z1).type('torch.DoubleTensor')),Variable(torch.from_numpy(z2).type('torch.DoubleTensor'))) for z1,z2 in zip(X1_tr,X2_tr)]"
   ]
  },
  {
   "cell_type": "code",
   "execution_count": null,
   "metadata": {},
   "outputs": [],
   "source": []
  },
  {
   "cell_type": "code",
   "execution_count": null,
   "metadata": {},
   "outputs": [],
   "source": []
  },
  {
   "cell_type": "markdown",
   "metadata": {},
   "source": [
    "## Get Model and Predict"
   ]
  },
  {
   "cell_type": "code",
   "execution_count": 11,
   "metadata": {},
   "outputs": [],
   "source": [
    "class ModelA(torch.nn.Module):\n",
    "    def __init__(self, input_size1, input_size2, output_size):        \n",
    "        super(ModelA, self).__init__()\n",
    "        self.input_size1=input_size1\n",
    "        self.input_size2=input_size2\n",
    "        \n",
    "        self.softmax = torch.nn.Softmax()\n",
    "        \n",
    "        self.features1 = torch.nn.Sequential(\n",
    "            torch.nn.LSTM(self.input_size1, 120)\n",
    "        )\n",
    "        \n",
    "        self.features2 = torch.nn.Sequential(\n",
    "            torch.nn.Linear(self.input_size2, 21,bias=False),\n",
    "            torch.nn.ReLU(inplace=True),\n",
    "            torch.nn.Linear(21, 3,bias=False)\n",
    "        )\n",
    "        \n",
    "        self.features3 = torch.nn.Sequential(\n",
    "            torch.nn.Linear(23, 70,bias=False),\n",
    "            torch.nn.ReLU(inplace=True),\n",
    "            torch.nn.Linear(70, 70,bias=False),\n",
    "            torch.nn.ReLU(inplace=True),\n",
    "            torch.nn.Linear(70, 30,bias=False),\n",
    "            torch.nn.ReLU(inplace=True),\n",
    "            torch.nn.Linear(30, 3,bias=False),\n",
    "            torch.nn.ReLU(inplace=True),\n",
    "            torch.nn.Linear(3, 2,bias=False),\n",
    "            torch.nn.Softmax())\n",
    "        \n",
    "        \n",
    "        self.features4 = torch.nn.Sequential(\n",
    "            torch.nn.Linear(120, 40,bias=False),\n",
    "            torch.nn.ReLU(inplace=True),\n",
    "            torch.nn.Linear(40, 40,bias=False),\n",
    "            torch.nn.ReLU(inplace=True),\n",
    "            torch.nn.Linear(40, 20,bias=False)\n",
    "        )\n",
    "        \n",
    "    def forward(self, input1,input2):\n",
    "        torch.manual_seed(400)\n",
    "        # input1=input[1]\n",
    "        # input2=input[0]\n",
    "\n",
    "        input1=input1.view(1,10, -1)\n",
    "        input2=input2.view(1,-1)\n",
    "\n",
    "        x1,h = self.features1(input1)\n",
    "        x1_1=x1[:,-1]\n",
    "        x1 = self.features4(x1_1)\n",
    "        x2 = self.features2(input2)\n",
    "        \n",
    "        x1 = x1.view(x1.size(0), -1)\n",
    "        x2 = x2.view(x2.size(0), -1)\n",
    "        \n",
    "        out=torch.cat((x1, x2), 1)\n",
    "        y_pred=self.features3(out)\n",
    "        \n",
    "        return y_pred,'-'\n",
    "    \n",
    "class ModelB(torch.nn.Module):\n",
    "    def __init__(self, input_size1, input_size2, output_size):        \n",
    "        super(ModelB, self).__init__()\n",
    "        self.input_size1=input_size1\n",
    "        self.input_size2=input_size2\n",
    "        \n",
    "        self.softmax = torch.nn.Softmax()\n",
    "        \n",
    "        self.features1 = torch.nn.Sequential(\n",
    "            torch.nn.LSTM(self.input_size1, 150)\n",
    "        )\n",
    "        \n",
    "        self.features2 = torch.nn.Sequential(\n",
    "            torch.nn.Linear(self.input_size2, 50,bias=False),\n",
    "            torch.nn.ReLU(inplace=True),\n",
    "            torch.nn.Linear(50, 25,bias=False),\n",
    "            torch.nn.ReLU(inplace=True),\n",
    "            torch.nn.Linear(25, 5,bias=False),\n",
    "            torch.nn.ReLU(inplace=True)\n",
    "        )\n",
    "        \n",
    "        self.features3 = torch.nn.Sequential(\n",
    "            torch.nn.Linear(30, 30,bias=False),\n",
    "            torch.nn.ReLU(inplace=True),\n",
    "            torch.nn.Linear(30, 30,bias=False),\n",
    "            torch.nn.ReLU(inplace=True),\n",
    "            torch.nn.Linear(30, 15,bias=False),\n",
    "            torch.nn.ReLU(inplace=True),\n",
    "            torch.nn.Linear(15, 10,bias=False),\n",
    "            torch.nn.ReLU(inplace=True),\n",
    "            torch.nn.Linear(10, 2,bias=False),\n",
    "            torch.nn.Softmax())\n",
    "        \n",
    "        \n",
    "        self.features4 = torch.nn.Sequential(\n",
    "            torch.nn.Linear(150, 50,bias=False),\n",
    "            torch.nn.ReLU(inplace=True),\n",
    "            torch.nn.Linear(50, 50,bias=False),\n",
    "            torch.nn.ReLU(inplace=True),\n",
    "            torch.nn.Linear(50, 25,bias=False),\n",
    "            torch.nn.ReLU(inplace=True),\n",
    "            torch.nn.Linear(25, 25,bias=False),\n",
    "            torch.nn.ReLU(inplace=True)\n",
    "        )\n",
    "        \n",
    "    def forward(self, input1,input2):\n",
    "        torch.manual_seed(193)\n",
    "        # input1=input[1]\n",
    "        # input2=input[0]\n",
    "\n",
    "        input1=input1.view(1,15, -1)\n",
    "        input2=input2.view(1,-1)\n",
    "\n",
    "        x1,h = self.features1(input1)\n",
    "        x1_1=x1[:,-1]\n",
    "        x1 = self.features4(x1_1)\n",
    "        x2 = self.features2(input2)\n",
    "        \n",
    "        x1 = x1.view(x1.size(0), -1)\n",
    "        x2 = x2.view(x2.size(0), -1)\n",
    "        \n",
    "        out=torch.cat((x1, x2), 1)\n",
    "        y_pred=self.features3(out)\n",
    "        \n",
    "        return y_pred,'-'"
   ]
  },
  {
   "cell_type": "code",
   "execution_count": 12,
   "metadata": {},
   "outputs": [],
   "source": [
    "modelA = torch.load(MODEL_PATH+\"20190903_model_A_1.pt\")\n",
    "modelB = torch.load(MODEL_PATH+\"20190903_model_B_1.pt\")"
   ]
  },
  {
   "cell_type": "code",
   "execution_count": 13,
   "metadata": {},
   "outputs": [
    {
     "name": "stderr",
     "output_type": "stream",
     "text": [
      "/Users/alamhanz/anaconda/envs/word_s/lib/python3.7/site-packages/torch/nn/modules/container.py:92: UserWarning: Implicit dimension choice for softmax has been deprecated. Change the call to include dim=X as an argument.\n",
      "  input = module(input)\n"
     ]
    }
   ],
   "source": [
    "predA=[]\n",
    "for x in XA:\n",
    "    resA,_=modelA(x[1],x[0])\n",
    "    resA=resA.data.numpy()[-1][-1]\n",
    "    if resA>=0.5:\n",
    "        predA.append(1)\n",
    "    else:\n",
    "        predA.append(0)\n",
    "    \n",
    "predB=[]\n",
    "for x in XB:\n",
    "    resB,_=modelB(x[1],x[0])\n",
    "    resB=resB.data.numpy()[-1][-1]\n",
    "    if resB>=0.4:\n",
    "        predB.append(1)\n",
    "    else:\n",
    "        predB.append(0)"
   ]
  },
  {
   "cell_type": "code",
   "execution_count": null,
   "metadata": {},
   "outputs": [],
   "source": []
  },
  {
   "cell_type": "markdown",
   "metadata": {},
   "source": [
    "## Generate Answer"
   ]
  },
  {
   "cell_type": "code",
   "execution_count": 14,
   "metadata": {},
   "outputs": [
    {
     "data": {
      "text/plain": [
       "(215, 244)"
      ]
     },
     "execution_count": 14,
     "metadata": {},
     "output_type": "execute_result"
    }
   ],
   "source": [
    "len(data_A),len(data_B)"
   ]
  },
  {
   "cell_type": "code",
   "execution_count": 15,
   "metadata": {},
   "outputs": [],
   "source": [
    "data_A['LABEL']=predA\n",
    "data_B['LABEL']=predB"
   ]
  },
  {
   "cell_type": "code",
   "execution_count": 16,
   "metadata": {},
   "outputs": [
    {
     "data": {
      "text/html": [
       "<div>\n",
       "<style scoped>\n",
       "    .dataframe tbody tr th:only-of-type {\n",
       "        vertical-align: middle;\n",
       "    }\n",
       "\n",
       "    .dataframe tbody tr th {\n",
       "        vertical-align: top;\n",
       "    }\n",
       "\n",
       "    .dataframe thead th {\n",
       "        text-align: right;\n",
       "    }\n",
       "</style>\n",
       "<table border=\"1\" class=\"dataframe\">\n",
       "  <thead>\n",
       "    <tr style=\"text-align: right;\">\n",
       "      <th></th>\n",
       "      <th>RES_ID</th>\n",
       "      <th>RESPONSE</th>\n",
       "      <th>RESPONSE_CLN</th>\n",
       "      <th>count_word</th>\n",
       "      <th>count_word_cln</th>\n",
       "      <th>avg_word_length</th>\n",
       "      <th>avg_word_length_cln</th>\n",
       "      <th>is_berpindah</th>\n",
       "      <th>is_tantangan</th>\n",
       "      <th>is_komunikasi</th>\n",
       "      <th>is_ekonomi</th>\n",
       "      <th>is_sosial</th>\n",
       "      <th>is_adaptasi</th>\n",
       "      <th>is_pindah</th>\n",
       "      <th>is_suasana</th>\n",
       "      <th>is_baru</th>\n",
       "      <th>is_sulit</th>\n",
       "      <th>RESPOND_USED</th>\n",
       "      <th>LABEL</th>\n",
       "    </tr>\n",
       "  </thead>\n",
       "  <tbody>\n",
       "    <tr>\n",
       "      <th>0</th>\n",
       "      <td>DEVA1</td>\n",
       "      <td>karena di tempat tnggalnya tidak aman karena b...</td>\n",
       "      <td></td>\n",
       "      <td>9</td>\n",
       "      <td>1</td>\n",
       "      <td>5.777778</td>\n",
       "      <td>0.0</td>\n",
       "      <td>0</td>\n",
       "      <td>0</td>\n",
       "      <td>0</td>\n",
       "      <td>0</td>\n",
       "      <td>0</td>\n",
       "      <td>0</td>\n",
       "      <td>0</td>\n",
       "      <td>0</td>\n",
       "      <td>0</td>\n",
       "      <td>0</td>\n",
       "      <td>0 0 0 0 0 0 0 0 0</td>\n",
       "      <td>1</td>\n",
       "    </tr>\n",
       "    <tr>\n",
       "      <th>1</th>\n",
       "      <td>DEVA2</td>\n",
       "      <td>banyak yang menolak, susah mencari lapangan pe...</td>\n",
       "      <td></td>\n",
       "      <td>25</td>\n",
       "      <td>1</td>\n",
       "      <td>5.960000</td>\n",
       "      <td>0.0</td>\n",
       "      <td>0</td>\n",
       "      <td>0</td>\n",
       "      <td>0</td>\n",
       "      <td>0</td>\n",
       "      <td>0</td>\n",
       "      <td>0</td>\n",
       "      <td>0</td>\n",
       "      <td>0</td>\n",
       "      <td>0</td>\n",
       "      <td>0</td>\n",
       "      <td>0 0 0 0 0 0 0 0 0</td>\n",
       "      <td>1</td>\n",
       "    </tr>\n",
       "    <tr>\n",
       "      <th>2</th>\n",
       "      <td>DEVA3</td>\n",
       "      <td>ah berkomunikasi dengan wilyah yang mereka tem...</td>\n",
       "      <td></td>\n",
       "      <td>7</td>\n",
       "      <td>1</td>\n",
       "      <td>6.428571</td>\n",
       "      <td>0.0</td>\n",
       "      <td>0</td>\n",
       "      <td>0</td>\n",
       "      <td>0</td>\n",
       "      <td>0</td>\n",
       "      <td>0</td>\n",
       "      <td>0</td>\n",
       "      <td>0</td>\n",
       "      <td>0</td>\n",
       "      <td>0</td>\n",
       "      <td>0</td>\n",
       "      <td>0 0 0 0 0 0 0 0 0</td>\n",
       "      <td>1</td>\n",
       "    </tr>\n",
       "    <tr>\n",
       "      <th>3</th>\n",
       "      <td>DEVA4</td>\n",
       "      <td>tantangan yang akan mereka hadapi, seperti mer...</td>\n",
       "      <td></td>\n",
       "      <td>16</td>\n",
       "      <td>1</td>\n",
       "      <td>6.375000</td>\n",
       "      <td>0.0</td>\n",
       "      <td>0</td>\n",
       "      <td>0</td>\n",
       "      <td>0</td>\n",
       "      <td>0</td>\n",
       "      <td>0</td>\n",
       "      <td>0</td>\n",
       "      <td>0</td>\n",
       "      <td>0</td>\n",
       "      <td>0</td>\n",
       "      <td>0</td>\n",
       "      <td>0 0 0 0 0 0 0 0 0</td>\n",
       "      <td>1</td>\n",
       "    </tr>\n",
       "    <tr>\n",
       "      <th>4</th>\n",
       "      <td>DEVA5</td>\n",
       "      <td>Mereka akan tidak terbiasa dengan tempat baru</td>\n",
       "      <td></td>\n",
       "      <td>7</td>\n",
       "      <td>1</td>\n",
       "      <td>5.571429</td>\n",
       "      <td>0.0</td>\n",
       "      <td>0</td>\n",
       "      <td>0</td>\n",
       "      <td>0</td>\n",
       "      <td>0</td>\n",
       "      <td>0</td>\n",
       "      <td>0</td>\n",
       "      <td>0</td>\n",
       "      <td>0</td>\n",
       "      <td>0</td>\n",
       "      <td>0</td>\n",
       "      <td>0 0 0 0 0 0 0 0 0</td>\n",
       "      <td>1</td>\n",
       "    </tr>\n",
       "  </tbody>\n",
       "</table>\n",
       "</div>"
      ],
      "text/plain": [
       "  RES_ID                                           RESPONSE RESPONSE_CLN  \\\n",
       "0  DEVA1  karena di tempat tnggalnya tidak aman karena b...                \n",
       "1  DEVA2  banyak yang menolak, susah mencari lapangan pe...                \n",
       "2  DEVA3  ah berkomunikasi dengan wilyah yang mereka tem...                \n",
       "3  DEVA4  tantangan yang akan mereka hadapi, seperti mer...                \n",
       "4  DEVA5      Mereka akan tidak terbiasa dengan tempat baru                \n",
       "\n",
       "   count_word  count_word_cln  avg_word_length  avg_word_length_cln  \\\n",
       "0           9               1         5.777778                  0.0   \n",
       "1          25               1         5.960000                  0.0   \n",
       "2           7               1         6.428571                  0.0   \n",
       "3          16               1         6.375000                  0.0   \n",
       "4           7               1         5.571429                  0.0   \n",
       "\n",
       "   is_berpindah  is_tantangan  is_komunikasi  is_ekonomi  is_sosial  \\\n",
       "0             0             0              0           0          0   \n",
       "1             0             0              0           0          0   \n",
       "2             0             0              0           0          0   \n",
       "3             0             0              0           0          0   \n",
       "4             0             0              0           0          0   \n",
       "\n",
       "   is_adaptasi  is_pindah  is_suasana  is_baru  is_sulit        RESPOND_USED  \\\n",
       "0            0          0           0        0         0   0 0 0 0 0 0 0 0 0   \n",
       "1            0          0           0        0         0   0 0 0 0 0 0 0 0 0   \n",
       "2            0          0           0        0         0   0 0 0 0 0 0 0 0 0   \n",
       "3            0          0           0        0         0   0 0 0 0 0 0 0 0 0   \n",
       "4            0          0           0        0         0   0 0 0 0 0 0 0 0 0   \n",
       "\n",
       "   LABEL  \n",
       "0      1  \n",
       "1      1  \n",
       "2      1  \n",
       "3      1  \n",
       "4      1  "
      ]
     },
     "execution_count": 16,
     "metadata": {},
     "output_type": "execute_result"
    }
   ],
   "source": [
    "data_A.head()"
   ]
  },
  {
   "cell_type": "code",
   "execution_count": 17,
   "metadata": {},
   "outputs": [],
   "source": [
    "data_resp=pd.concat([data_A[['RES_ID','LABEL']],data_B[['RES_ID','LABEL']]])\n",
    "data_resp=data_resp.reset_index()[['RES_ID','LABEL']]"
   ]
  },
  {
   "cell_type": "code",
   "execution_count": 18,
   "metadata": {},
   "outputs": [],
   "source": [
    "answer=list(data_resp.transpose().to_dict().values())"
   ]
  },
  {
   "cell_type": "code",
   "execution_count": 20,
   "metadata": {},
   "outputs": [
    {
     "data": {
      "text/plain": [
       "[{'RES_ID': 'DEVA1', 'LABEL': 1},\n",
       " {'RES_ID': 'DEVA2', 'LABEL': 1},\n",
       " {'RES_ID': 'DEVA3', 'LABEL': 1}]"
      ]
     },
     "execution_count": 20,
     "metadata": {},
     "output_type": "execute_result"
    }
   ],
   "source": [
    "answer[:3]"
   ]
  },
  {
   "cell_type": "code",
   "execution_count": 21,
   "metadata": {},
   "outputs": [],
   "source": [
    "# \"predictions_dev.json\""
   ]
  },
  {
   "cell_type": "code",
   "execution_count": 22,
   "metadata": {},
   "outputs": [],
   "source": [
    "with open(ANSWER_PATH+'predictions_dev_v2.json', 'w') as f:\n",
    "    json.dump(answer, f)\n",
    "    \n",
    "with open(ANSWER_PATH+'predictions_dev.json', 'w') as f:\n",
    "    json.dump(answer, f)"
   ]
  },
  {
   "cell_type": "code",
   "execution_count": 71,
   "metadata": {},
   "outputs": [],
   "source": [
    "# answer"
   ]
  },
  {
   "cell_type": "code",
   "execution_count": null,
   "metadata": {},
   "outputs": [],
   "source": []
  }
 ],
 "metadata": {
  "kernelspec": {
   "display_name": "Python [conda env:word_s]",
   "language": "python",
   "name": "conda-env-word_s-py"
  },
  "language_info": {
   "codemirror_mode": {
    "name": "ipython",
    "version": 3
   },
   "file_extension": ".py",
   "mimetype": "text/x-python",
   "name": "python",
   "nbconvert_exporter": "python",
   "pygments_lexer": "ipython3",
   "version": "3.7.3"
  }
 },
 "nbformat": 4,
 "nbformat_minor": 2
}
